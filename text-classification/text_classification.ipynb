{
 "cells": [
  {
   "cell_type": "code",
   "execution_count": 77,
   "metadata": {
    "cell_style": "center"
   },
   "outputs": [],
   "source": [
    "import numpy as np\n",
    "import pandas as pd\n",
    "import re\n",
    "import itertools\n",
    "from collections import Counter\n",
    "import pickle\n",
    "import jieba\n",
    "import matplotlib.pyplot as plt\n",
    "plt.style.use('fivethirtyeight')\n",
    "%matplotlib inline"
   ]
  },
  {
   "cell_type": "markdown",
   "metadata": {},
   "source": [
    "# Read the Dataset"
   ]
  },
  {
   "cell_type": "code",
   "execution_count": 273,
   "metadata": {},
   "outputs": [
    {
     "data": {
      "text/html": [
       "<div>\n",
       "<style scoped>\n",
       "    .dataframe tbody tr th:only-of-type {\n",
       "        vertical-align: middle;\n",
       "    }\n",
       "\n",
       "    .dataframe tbody tr th {\n",
       "        vertical-align: top;\n",
       "    }\n",
       "\n",
       "    .dataframe thead th {\n",
       "        text-align: right;\n",
       "    }\n",
       "</style>\n",
       "<table border=\"1\" class=\"dataframe\">\n",
       "  <thead>\n",
       "    <tr style=\"text-align: right;\">\n",
       "      <th></th>\n",
       "      <th>cat</th>\n",
       "      <th>review</th>\n",
       "    </tr>\n",
       "  </thead>\n",
       "  <tbody>\n",
       "    <tr>\n",
       "      <th>7654</th>\n",
       "      <td>平板</td>\n",
       "      <td>非常好，京东物流品质没话说</td>\n",
       "    </tr>\n",
       "    <tr>\n",
       "      <th>14374</th>\n",
       "      <td>手机</td>\n",
       "      <td>CPU处理速度真快，软件丰富，强机！</td>\n",
       "    </tr>\n",
       "    <tr>\n",
       "      <th>44887</th>\n",
       "      <td>衣服</td>\n",
       "      <td>味道不是一般大，还会掉色，差差差差差差</td>\n",
       "    </tr>\n",
       "    <tr>\n",
       "      <th>33423</th>\n",
       "      <td>洗发水</td>\n",
       "      <td>和我之前买的瓶子颜色不一样，味道也不一样</td>\n",
       "    </tr>\n",
       "    <tr>\n",
       "      <th>56872</th>\n",
       "      <td>酒店</td>\n",
       "      <td>酒店附近修路,出行比较痛苦.服务还是一如既往的好.偶尔去了趟健身房,觉得好小叻,设备都挤在一...</td>\n",
       "    </tr>\n",
       "    <tr>\n",
       "      <th>18083</th>\n",
       "      <td>水果</td>\n",
       "      <td>包装极好，苹果很脆，很甜，很好吃，实惠，京东送货超快，超赞的!</td>\n",
       "    </tr>\n",
       "    <tr>\n",
       "      <th>24542</th>\n",
       "      <td>水果</td>\n",
       "      <td>买了两次潘苹果，都是花牛，一次是面面的，水分少，这次是红富士，口感一般般，这个所谓的海拔10...</td>\n",
       "    </tr>\n",
       "    <tr>\n",
       "      <th>15584</th>\n",
       "      <td>手机</td>\n",
       "      <td>可惜，键盘不耐磨，短信息每隔一段时间就会自动清零（这点特别可气），用了不到一年，屏幕也出现问...</td>\n",
       "    </tr>\n",
       "    <tr>\n",
       "      <th>39739</th>\n",
       "      <td>衣服</td>\n",
       "      <td>宝贝收到了，包装很精致，老公穿大小合适，做工精细，质量不错，非常满意。</td>\n",
       "    </tr>\n",
       "    <tr>\n",
       "      <th>15053</th>\n",
       "      <td>手机</td>\n",
       "      <td>质量不好，用了半年不到屏幕烧了，而且容易破，我的朋友也和我一样屏幕破了，而且修修贵的要命，一...</td>\n",
       "    </tr>\n",
       "  </tbody>\n",
       "</table>\n",
       "</div>"
      ],
      "text/plain": [
       "       cat                                             review\n",
       "7654    平板                                      非常好，京东物流品质没话说\n",
       "14374   手机                                 CPU处理速度真快，软件丰富，强机！\n",
       "44887   衣服                                味道不是一般大，还会掉色，差差差差差差\n",
       "33423  洗发水                               和我之前买的瓶子颜色不一样，味道也不一样\n",
       "56872   酒店  酒店附近修路,出行比较痛苦.服务还是一如既往的好.偶尔去了趟健身房,觉得好小叻,设备都挤在一...\n",
       "18083   水果                    包装极好，苹果很脆，很甜，很好吃，实惠，京东送货超快，超赞的!\n",
       "24542   水果  买了两次潘苹果，都是花牛，一次是面面的，水分少，这次是红富士，口感一般般，这个所谓的海拔10...\n",
       "15584   手机  可惜，键盘不耐磨，短信息每隔一段时间就会自动清零（这点特别可气），用了不到一年，屏幕也出现问...\n",
       "39739   衣服                宝贝收到了，包装很精致，老公穿大小合适，做工精细，质量不错，非常满意。\n",
       "15053   手机  质量不好，用了半年不到屏幕烧了，而且容易破，我的朋友也和我一样屏幕破了，而且修修贵的要命，一..."
      ]
     },
     "execution_count": 273,
     "metadata": {},
     "output_type": "execute_result"
    }
   ],
   "source": [
    "data = pd.read_csv('./online_shopping_10_cats.csv')\n",
    "data = data[['cat', 'review']] # in this practice we only need the category and review text, so just keep this two\n",
    "data.sample(10) # get a sample to take a look at the dataset"
   ]
  },
  {
   "cell_type": "markdown",
   "metadata": {},
   "source": [
    "# Data Preprocess"
   ]
  },
  {
   "cell_type": "code",
   "execution_count": 274,
   "metadata": {},
   "outputs": [
    {
     "data": {
      "text/html": [
       "<div>\n",
       "<style scoped>\n",
       "    .dataframe tbody tr th:only-of-type {\n",
       "        vertical-align: middle;\n",
       "    }\n",
       "\n",
       "    .dataframe tbody tr th {\n",
       "        vertical-align: top;\n",
       "    }\n",
       "\n",
       "    .dataframe thead th {\n",
       "        text-align: right;\n",
       "    }\n",
       "</style>\n",
       "<table border=\"1\" class=\"dataframe\">\n",
       "  <thead>\n",
       "    <tr style=\"text-align: right;\">\n",
       "      <th></th>\n",
       "      <th>review</th>\n",
       "    </tr>\n",
       "    <tr>\n",
       "      <th>cat</th>\n",
       "      <th></th>\n",
       "    </tr>\n",
       "  </thead>\n",
       "  <tbody>\n",
       "    <tr>\n",
       "      <th>书籍</th>\n",
       "      <td>3851</td>\n",
       "    </tr>\n",
       "    <tr>\n",
       "      <th>平板</th>\n",
       "      <td>10000</td>\n",
       "    </tr>\n",
       "    <tr>\n",
       "      <th>手机</th>\n",
       "      <td>2323</td>\n",
       "    </tr>\n",
       "    <tr>\n",
       "      <th>水果</th>\n",
       "      <td>10000</td>\n",
       "    </tr>\n",
       "    <tr>\n",
       "      <th>洗发水</th>\n",
       "      <td>10000</td>\n",
       "    </tr>\n",
       "    <tr>\n",
       "      <th>热水器</th>\n",
       "      <td>574</td>\n",
       "    </tr>\n",
       "    <tr>\n",
       "      <th>蒙牛</th>\n",
       "      <td>2033</td>\n",
       "    </tr>\n",
       "    <tr>\n",
       "      <th>衣服</th>\n",
       "      <td>10000</td>\n",
       "    </tr>\n",
       "    <tr>\n",
       "      <th>计算机</th>\n",
       "      <td>3992</td>\n",
       "    </tr>\n",
       "    <tr>\n",
       "      <th>酒店</th>\n",
       "      <td>10000</td>\n",
       "    </tr>\n",
       "  </tbody>\n",
       "</table>\n",
       "</div>"
      ],
      "text/plain": [
       "     review\n",
       "cat        \n",
       "书籍     3851\n",
       "平板    10000\n",
       "手机     2323\n",
       "水果    10000\n",
       "洗发水   10000\n",
       "热水器     574\n",
       "蒙牛     2033\n",
       "衣服    10000\n",
       "计算机    3992\n",
       "酒店    10000"
      ]
     },
     "execution_count": 274,
     "metadata": {},
     "output_type": "execute_result"
    }
   ],
   "source": [
    "data.groupby('cat').count()"
   ]
  },
  {
   "cell_type": "code",
   "execution_count": 60,
   "metadata": {},
   "outputs": [],
   "source": [
    "def clean_review(text):\n",
    "    remove_symbol = re.sub(r\"[\\s\\/\\\\_$^*(+\\\"\\'+~\\-@#&^*\\[\\]{}【】]+\", \"\", str(text))\n",
    "    remove_num = re.sub(r\"\\d*\\.\\d*%?|\\d+%?\", \"\", remove_symbol)\n",
    "    remove_char = re.sub(r\"[a-zA-Z]+\", \"\", remove_num)\n",
    "    return remove_char"
   ]
  },
  {
   "cell_type": "code",
   "execution_count": 275,
   "metadata": {},
   "outputs": [],
   "source": [
    "data['review'] = data.review.apply(clean_review)"
   ]
  },
  {
   "cell_type": "code",
   "execution_count": 276,
   "metadata": {},
   "outputs": [],
   "source": [
    "review_length = data.review.apply(lambda x: len(str(x)))"
   ]
  },
  {
   "cell_type": "code",
   "execution_count": 277,
   "metadata": {},
   "outputs": [
    {
     "data": {
      "text/plain": [
       "{'whiskers': [<matplotlib.lines.Line2D at 0x11d05d898>,\n",
       "  <matplotlib.lines.Line2D at 0x57129e0f0>],\n",
       " 'caps': [<matplotlib.lines.Line2D at 0x57129e550>,\n",
       "  <matplotlib.lines.Line2D at 0x57129e9b0>],\n",
       " 'boxes': [<matplotlib.lines.Line2D at 0x11d05d4a8>],\n",
       " 'medians': [<matplotlib.lines.Line2D at 0x57129ee10>],\n",
       " 'fliers': [<matplotlib.lines.Line2D at 0x56d7152b0>],\n",
       " 'means': []}"
      ]
     },
     "execution_count": 277,
     "metadata": {},
     "output_type": "execute_result"
    },
    {
     "data": {
      "image/png": "[encoded data removed]",
      "text/plain": [
       "<Figure size 288x432 with 1 Axes>"
      ]
     },
     "metadata": {},
     "output_type": "display_data"
    }
   ],
   "source": [
    "plt.figure(figsize=[4,6])\n",
    "plt.title('box plot of review length')\n",
    "plt.boxplot(review_length)"
   ]
  },
  {
   "cell_type": "code",
   "execution_count": 278,
   "metadata": {},
   "outputs": [
    {
     "data": {
      "text/plain": [
       "count    62774.000000\n",
       "mean        55.450330\n",
       "std         74.516073\n",
       "min          0.000000\n",
       "25%         20.000000\n",
       "50%         33.000000\n",
       "75%         60.000000\n",
       "max       2876.000000\n",
       "Name: review, dtype: float64"
      ]
     },
     "execution_count": 278,
     "metadata": {},
     "output_type": "execute_result"
    }
   ],
   "source": [
    "review_length.describe()"
   ]
  },
  {
   "cell_type": "code",
   "execution_count": 279,
   "metadata": {},
   "outputs": [
    {
     "data": {
      "text/plain": [
       "''"
      ]
     },
     "execution_count": 279,
     "metadata": {},
     "output_type": "execute_result"
    }
   ],
   "source": [
    "data.iloc[review_length.idxmin()].review # minimum review"
   ]
  },
  {
   "cell_type": "code",
   "execution_count": 280,
   "metadata": {},
   "outputs": [
    {
     "data": {
      "text/plain": [
       "'《聊斋》遗风，《围城》神韵——《场客》新书发布暨作品研讨会纪要中国作协创研部主任雷达：今天呢，山东的文学界的评论家都来了，都认识，非常高兴有机会参加这次研讨会。拿到这本书，我一直在路上出差，没有完整地看完，但大体对作品的形态、格调还是基本掌握，所以我说一点浅见：我觉得这是一部奇特的、面貌陌生而又新鲜的作品。作品带有一定的喜剧风格，甚至是闹剧风格，全书充满了反讽、嘲笑、揶揄，把日常生活夸大到荒诞，把小纠纷渲染成大灾难，非常小题大做。作者要干什么。他极端写实，采用象征手法，从事件、故事、人物、话语，都不按常规出牌，想怎么写就怎么写。首先看他的话语是十分膨胀的，充满了对社会人生一肚皮的牢骚，可以说是牢骚，也可以说是看法和见解。很多东西我们平常看不细，比如他写两个女人打架，那一段他写的多细啊。一开始就写两个女人打架，后来成了整部作品情节的发动机。表面上看，这是一场闹剧，但透过闹剧的荒诞和变形，体现出了作者对人生的体味，对日常生活所蕴育的哲理的深刻思考，还是具有一定的典型意义。我们这个时代是一个欲望膨胀的时代，权欲、金钱欲、性欲、支配欲、爆发欲等等，这部作品对市场经济条件下人们的各种欲望进行了描绘，它又不同于以往作品对官场、情场、职场的集中单一描写。比如说，韦公元这个人物，他是个得道的土鳖，是个农民企业家，他不是官；说他是民，他也不是民。还有书中的女主人公等其他人物形象都有其身份的复杂性。这部作品对社会上三教九流、五行八作、形形色色的人物都进行了描写，写他们利欲熏心、不择手段，可以说是把卑鄙的卑鄙撕得更加彻底。作者的想象力十分丰富，比如，在写洗浴城场景时，每个人都戴着面具，有狗头的，有虎头的等等，我问他这是真地的吗？真有这些面具，他说是自己想象出来的。我说想象得很好，这就是对生活的一种合理想象。这部书不是弘扬正面价值，描写社会的真善美，而是揭露和批判国民的劣根性，没有明亮、昂扬、诗意的调子，而是写人的利欲熏心、勾心斗角、你争我夺。它不是写官场，写官员，它是个泛欲望化的东西。这可能就是全民精神素质的现状，一些腐恶的、消极的、利欲熏心的东西比较普遍，作者通过这些看到了市场经济条件下人性的堕落。这部作品与日常写作的原生态不同，作者不拘泥于日常生活的油盐酱醋，加入了夸张、变形、荒诞等多种艺术手法。比如他写广场，广场不是大城市，它是城乡交叉处，它是信息集散地，这就是作者写的广场。它是一个欲望最集中的地方，是无聊的人流言中伤、交头接耳、散布消息、无事生非的地方。作者把日常生活上升到“世间处处名利场，人生难逃无奈客”的哲学高度。恕我直言，我不认为这一点的有多少哲学高度。“天下熙熙，皆为利来；天下攘攘，皆为利往。”古人已经有过概括。还有一点，作者所体现的“不如意者常八九，与人言者无二三”的哲学思想也并不多么深刻，我觉得哲学思想还可以更深一点。当然，这比一般的小说，归纳的要真实，思想还是要深入一点的。另外，没有理想，没有光亮，没有希望，没有真善美的人生是不值得追求的，人生还是要有所追求的。与此相比，我更看重的是：周其森这个作家他的知识结构与一般作家不一样，他不是写常规题材，他的作品中写的是股市、官场等等，他的作品很怪异，这与一般作家是不一样的。比如他的语言，属于杂家的语言，话语很膨胀。我们一般的文学作品一般讲究感性，讲究感情充沛。周其森这个作品理想也很强，书中评论性的东西也很多，作者把文学描写与文学批评有机的结合在一起，写了很多评论性的东西，这是这部作品的一大特点。另外一个特点，是风俗化。作者把人们的种种欲望，对名利的争夺等等，风俗化的写出，这一点我想与作者本身的经历有关。主人公韦公元是作品一个成功点。他既是市里呼风唤雨的企业家，又与黑社会有所牵连，又是小混混的依靠；既拒绝美色，又不得不陷入美色，同时他还是很多人的争夺对象。这个人物形象具有很强的真实性和独特性，是作品一个很重要的成绩。作者的话语很膨胀，王蒙写的一些东西，有时就没完没了。他不是很一般的语言。随便举个例子，他这里有很多。比如，大凡世上的动物总愿示美以吸引异性眼球：开屏的孔雀，叽喳的喜鹊，放骚的狐狸，芬芳的花朵……现代经济高昂的服饰成本逼迫得一些女人找到了一条经济实用型的示美途径——作头：早晨梳一条马尾松，晚上盘一个发髻，上午长发披肩，下午牛角小辫，甚至模仿尼姑，把头发弄得高耸入云，还插上一副簪子……再比如：最为滑稽的是他曾经有个口头禅：我操。“操”是不雅的谐音，就像《水浒传》里“鸟人”的“鸟”。本属于毛病却成为竞相追逐的尤物。先是他的员工率先“我操”不离口；后来，扩而大之为丰圆社区周边时髦用语；再后来干脆就发散到了社会上，童叟无分地时不时的“我操”几下。最后，男女老少都患了“我操”症。只不过人们聪明地进行了一定的微调：“我操”呼为“哇塞”，但是山还是那座山，梁还是那道梁，味道还是那个味道，原本低级粗俗的俚语，竟然随波逐流地雅俗共赏起来。”现在的小说，怎么去创新，这是摆在我们面前的一个问题。有些人尝试用极具破坏性的语言，破坏原有的语言规范来写小说。这是一种尝试。现在有很多非职业作家反而更能体会到职业作家体会不到的一些独特的感觉。创新问题是我们大家，包括本书作者在内都在尝试的。山大教授博士生导师牛运清：这是一部特别有味道的作品。我写了一幅对联：场客烟云权钱色名尽哲理，聊斋遗风嬉笑怒骂皆文章。我觉得作家没有专利，不能说谁就是作家，谁能创作谁就是作家。周其森不按常规出牌，他不是职业作家，与一般的专业作家的作品不太一样，这部小说无论是在结构、语言还是人物调度上都有独到之处。比如小说开头，他用荒诞的两只小狗打架的“避孕药”事件，围绕这个事件挑起矛盾，打官司，引出人物，推动情节，一直到小说最后情节不断，用小事情、小故事引出大情节、大故事。这部作品给人感觉很新鲜：它用抖笑的语言勾画社会众生相，鞭挞丑恶，晾晒人的灵魂。在讽刺、揭露的背后，也体现了作者对“仁”的一种渴望。再一个，这部小说是对中国文学的一些传统的继承，在此基础上，又进行了创造和发展。比如，名利场，在我国古代小说《镜花缘》就有名利场。英国十九世纪大文学家、大文豪萨克雷一部小说名字就叫《名利场》。马克思在评论狄更斯、萨克雷的作品时说：“他们用逼真而动人的文笔，揭露出政治和社会上的真相；一切政治家、政论家、道德家所揭露的加在一起，还不如他们揭露的多。”这是马克思的观点。这部作品起名叫《场客》，就是名利场，无奈客，这部作品好多地方对明清的文学都有一定的继承和借鉴。这部作品还体现出作者批判的技巧和批判的意识，体现了作者对现实的高度关注。作者文思飞扬，未受任何束缚，下笔恣肆，语言幽默、荒诞、风趣，张力十足。小说中，运用了文言、现代语、土语方言，还有洋文，多种语言融合一块，表现力很强。小说的语言可以说是雅俗共赏，有的语言很通俗易懂，有的则很深刻，很有寓意。有许多语言哲理性很强，比如：男人有钱就变坏，女人变坏就有钱。这些可以说是醒事恒言、喻世明言。不满呢，我感觉要精炼，有约束力。'"
      ]
     },
     "execution_count": 280,
     "metadata": {},
     "output_type": "execute_result"
    }
   ],
   "source": [
    "data.iloc[review_length.idxmax()].review # maximum review"
   ]
  },
  {
   "cell_type": "code",
   "execution_count": 284,
   "metadata": {},
   "outputs": [
    {
     "data": {
      "text/plain": [
       "123.0"
      ]
     },
     "execution_count": 284,
     "metadata": {},
     "output_type": "execute_result"
    }
   ],
   "source": [
    "review_length.quantile(0.90)"
   ]
  },
  {
   "cell_type": "markdown",
   "metadata": {},
   "source": [
    "90% of the reviews are less than 123 characters, so I just kept those reviews. And too short reviews do not make much sense, I also left them out"
   ]
  },
  {
   "cell_type": "code",
   "execution_count": 285,
   "metadata": {},
   "outputs": [],
   "source": [
    "data = data[data.review.apply(lambda x: 3 < len(str(x)) < 123)]"
   ]
  },
  {
   "cell_type": "code",
   "execution_count": 70,
   "metadata": {},
   "outputs": [],
   "source": [
    "data['words'] = data.review.apply(jieba.lcut)"
   ]
  },
  {
   "cell_type": "code",
   "execution_count": 179,
   "metadata": {},
   "outputs": [],
   "source": [
    "data = data.loc[data.words.apply(lambda x: len(x) != 0)]"
   ]
  },
  {
   "cell_type": "code",
   "execution_count": 242,
   "metadata": {},
   "outputs": [
    {
     "data": {
      "text/html": [
       "<div>\n",
       "<style scoped>\n",
       "    .dataframe tbody tr th:only-of-type {\n",
       "        vertical-align: middle;\n",
       "    }\n",
       "\n",
       "    .dataframe tbody tr th {\n",
       "        vertical-align: top;\n",
       "    }\n",
       "\n",
       "    .dataframe thead th {\n",
       "        text-align: right;\n",
       "    }\n",
       "</style>\n",
       "<table border=\"1\" class=\"dataframe\">\n",
       "  <thead>\n",
       "    <tr style=\"text-align: right;\">\n",
       "      <th></th>\n",
       "      <th>cat</th>\n",
       "      <th>review</th>\n",
       "      <th>words</th>\n",
       "    </tr>\n",
       "  </thead>\n",
       "  <tbody>\n",
       "    <tr>\n",
       "      <th>24833</th>\n",
       "      <td>水果</td>\n",
       "      <td>太小了，与描述不符，还烂了二个。</td>\n",
       "      <td>[太小, 了, ，, 与, 描述, 不符, ，, 还烂, 了, 二个, 。]</td>\n",
       "    </tr>\n",
       "    <tr>\n",
       "      <th>20703</th>\n",
       "      <td>水果</td>\n",
       "      <td>苹果很棒很新鲜快递小哥也很给力五星好评</td>\n",
       "      <td>[苹果, 很棒, 很, 新鲜, 快递, 小哥, 也, 很, 给, 力, 五星, 好评]</td>\n",
       "    </tr>\n",
       "    <tr>\n",
       "      <th>28956</th>\n",
       "      <td>洗发水</td>\n",
       "      <td>快递很快就到了，早上九点下单，下午四点就到了。香味好香，不知道是不是正品</td>\n",
       "      <td>[快递, 很快, 就, 到, 了, ，, 早上, 九点, 下单, ，, 下午, 四点, 就,...</td>\n",
       "    </tr>\n",
       "    <tr>\n",
       "      <th>38355</th>\n",
       "      <td>蒙牛</td>\n",
       "      <td>无良蒙牛会遭报应的无</td>\n",
       "      <td>[无良, 蒙牛, 会, 遭报应, 的, 无]</td>\n",
       "    </tr>\n",
       "    <tr>\n",
       "      <th>26420</th>\n",
       "      <td>洗发水</td>\n",
       "      <td>京东自营值得信赖！正品！满减好划算啊！小瓶的还可以出差，旅游用！</td>\n",
       "      <td>[京东, 自营, 值得, 信赖, ！, 正品, ！, 满减, 好, 划算, 啊, ！, 小瓶...</td>\n",
       "    </tr>\n",
       "    <tr>\n",
       "      <th>28545</th>\n",
       "      <td>洗发水</td>\n",
       "      <td>包装太简陋了，里面没有任何缓冲的，很容易就会破了，味道挺好闻的，希望以后包装有所改进</td>\n",
       "      <td>[包装, 太, 简陋, 了, ，, 里面, 没有, 任何, 缓冲, 的, ，, 很, 容易,...</td>\n",
       "    </tr>\n",
       "    <tr>\n",
       "      <th>26569</th>\n",
       "      <td>洗发水</td>\n",
       "      <td>还可以，一次买了个！非常实惠的赞一个</td>\n",
       "      <td>[还, 可以, ，, 一次, 买, 了, 个, ！, 非常, 实惠, 的, 赞, 一个]</td>\n",
       "    </tr>\n",
       "    <tr>\n",
       "      <th>6194</th>\n",
       "      <td>平板</td>\n",
       "      <td>特意用了好多天才来评价，待机时间很长，我买来看电视用的，很满意</td>\n",
       "      <td>[特意, 用, 了, 好多, 天才, 来, 评价, ，, 待机时间, 很长, ，, 我, 买...</td>\n",
       "    </tr>\n",
       "    <tr>\n",
       "      <th>7944</th>\n",
       "      <td>平板</td>\n",
       "      <td>还可以吧。毕竟安卓平板都是差不多。音质确实没的说。只不过感觉就是个大手机而已。</td>\n",
       "      <td>[还, 可以, 吧, 。, 毕竟, 安卓, 平板, 都, 是, 差不多, 。, 音质, 确实...</td>\n",
       "    </tr>\n",
       "    <tr>\n",
       "      <th>61510</th>\n",
       "      <td>酒店</td>\n",
       "      <td>各方面很差，就是离机场近。</td>\n",
       "      <td>[各, 方面, 很差, ，, 就是, 离, 机场, 近, 。]</td>\n",
       "    </tr>\n",
       "  </tbody>\n",
       "</table>\n",
       "</div>"
      ],
      "text/plain": [
       "       cat                                      review  \\\n",
       "24833   水果                            太小了，与描述不符，还烂了二个。   \n",
       "20703   水果                         苹果很棒很新鲜快递小哥也很给力五星好评   \n",
       "28956  洗发水        快递很快就到了，早上九点下单，下午四点就到了。香味好香，不知道是不是正品   \n",
       "38355   蒙牛                                  无良蒙牛会遭报应的无   \n",
       "26420  洗发水            京东自营值得信赖！正品！满减好划算啊！小瓶的还可以出差，旅游用！   \n",
       "28545  洗发水  包装太简陋了，里面没有任何缓冲的，很容易就会破了，味道挺好闻的，希望以后包装有所改进   \n",
       "26569  洗发水                          还可以，一次买了个！非常实惠的赞一个   \n",
       "6194    平板             特意用了好多天才来评价，待机时间很长，我买来看电视用的，很满意   \n",
       "7944    平板     还可以吧。毕竟安卓平板都是差不多。音质确实没的说。只不过感觉就是个大手机而已。   \n",
       "61510   酒店                               各方面很差，就是离机场近。   \n",
       "\n",
       "                                                   words  \n",
       "24833             [太小, 了, ，, 与, 描述, 不符, ，, 还烂, 了, 二个, 。]  \n",
       "20703        [苹果, 很棒, 很, 新鲜, 快递, 小哥, 也, 很, 给, 力, 五星, 好评]  \n",
       "28956  [快递, 很快, 就, 到, 了, ，, 早上, 九点, 下单, ，, 下午, 四点, 就,...  \n",
       "38355                             [无良, 蒙牛, 会, 遭报应, 的, 无]  \n",
       "26420  [京东, 自营, 值得, 信赖, ！, 正品, ！, 满减, 好, 划算, 啊, ！, 小瓶...  \n",
       "28545  [包装, 太, 简陋, 了, ，, 里面, 没有, 任何, 缓冲, 的, ，, 很, 容易,...  \n",
       "26569       [还, 可以, ，, 一次, 买, 了, 个, ！, 非常, 实惠, 的, 赞, 一个]  \n",
       "6194   [特意, 用, 了, 好多, 天才, 来, 评价, ，, 待机时间, 很长, ，, 我, 买...  \n",
       "7944   [还, 可以, 吧, 。, 毕竟, 安卓, 平板, 都, 是, 差不多, 。, 音质, 确实...  \n",
       "61510                    [各, 方面, 很差, ，, 就是, 离, 机场, 近, 。]  "
      ]
     },
     "execution_count": 242,
     "metadata": {},
     "output_type": "execute_result"
    }
   ],
   "source": [
    "data.sample(10)"
   ]
  },
  {
   "cell_type": "markdown",
   "metadata": {},
   "source": [
    "# Build Dataset"
   ]
  },
  {
   "cell_type": "code",
   "execution_count": 79,
   "metadata": {},
   "outputs": [],
   "source": [
    "from sklearn.model_selection import train_test_split"
   ]
  },
  {
   "cell_type": "code",
   "execution_count": 181,
   "metadata": {},
   "outputs": [],
   "source": [
    "train, test = train_test_split(data, test_size=0.2, random_state=42)"
   ]
  },
  {
   "cell_type": "code",
   "execution_count": 140,
   "metadata": {},
   "outputs": [],
   "source": [
    "id_tag = {idx: tag for idx, tag in enumerate(data.groupby('cat').count().index)}\n",
    "tag_id = {v: k for k, v in id_tag.items()}"
   ]
  },
  {
   "cell_type": "code",
   "execution_count": 141,
   "metadata": {},
   "outputs": [
    {
     "data": {
      "text/plain": [
       "{0: '书籍',\n",
       " 1: '平板',\n",
       " 2: '手机',\n",
       " 3: '水果',\n",
       " 4: '洗发水',\n",
       " 5: '热水器',\n",
       " 6: '蒙牛',\n",
       " 7: '衣服',\n",
       " 8: '计算机',\n",
       " 9: '酒店'}"
      ]
     },
     "execution_count": 141,
     "metadata": {},
     "output_type": "execute_result"
    }
   ],
   "source": [
    "id_tag"
   ]
  },
  {
   "cell_type": "code",
   "execution_count": 187,
   "metadata": {
    "collapsed": true
   },
   "outputs": [
    {
     "name": "stderr",
     "output_type": "stream",
     "text": [
      "/Users/licor/anaconda3/envs/nlp/lib/python3.6/site-packages/ipykernel_launcher.py:1: SettingWithCopyWarning: \n",
      "A value is trying to be set on a copy of a slice from a DataFrame.\n",
      "Try using .loc[row_indexer,col_indexer] = value instead\n",
      "\n",
      "See the caveats in the documentation: http://pandas.pydata.org/pandas-docs/stable/indexing.html#indexing-view-versus-copy\n",
      "  \"\"\"Entry point for launching an IPython kernel.\n",
      "/Users/licor/anaconda3/envs/nlp/lib/python3.6/site-packages/ipykernel_launcher.py:2: SettingWithCopyWarning: \n",
      "A value is trying to be set on a copy of a slice from a DataFrame.\n",
      "Try using .loc[row_indexer,col_indexer] = value instead\n",
      "\n",
      "See the caveats in the documentation: http://pandas.pydata.org/pandas-docs/stable/indexing.html#indexing-view-versus-copy\n",
      "  \n"
     ]
    }
   ],
   "source": [
    "train['tag'] = train.cat.apply(lambda x: tag_id[x])\n",
    "test['tag'] = test.cat.apply(lambda x: tag_id[x])"
   ]
  },
  {
   "cell_type": "code",
   "execution_count": 254,
   "metadata": {},
   "outputs": [],
   "source": [
    "y_train = train.tag.tolist()\n",
    "y_test = test.tag.tolist()"
   ]
  },
  {
   "cell_type": "markdown",
   "metadata": {},
   "source": [
    "# Bag of Word Features"
   ]
  },
  {
   "cell_type": "code",
   "execution_count": 251,
   "metadata": {},
   "outputs": [],
   "source": [
    "# First create a dictionary of words from training data\n",
    "word_counter = Counter([x for y in train.words.tolist() for x in y])\n",
    "\n",
    "# Assign unique id to every word, start from the most frequent one\n",
    "id_word_dict = {idx+1: item[0] for idx, item in enumerate(word_counter.most_common())}\n",
    "id_word_dict[0] = 'UNK'\n",
    "word_id_dict = {word: idx for idx, word in id_word_dict.items()}"
   ]
  },
  {
   "cell_type": "code",
   "execution_count": 252,
   "metadata": {
    "collapsed": true
   },
   "outputs": [
    {
     "name": "stderr",
     "output_type": "stream",
     "text": [
      "/Users/licor/anaconda3/envs/nlp/lib/python3.6/site-packages/ipykernel_launcher.py:1: SettingWithCopyWarning: \n",
      "A value is trying to be set on a copy of a slice from a DataFrame.\n",
      "Try using .loc[row_indexer,col_indexer] = value instead\n",
      "\n",
      "See the caveats in the documentation: http://pandas.pydata.org/pandas-docs/stable/indexing.html#indexing-view-versus-copy\n",
      "  \"\"\"Entry point for launching an IPython kernel.\n",
      "/Users/licor/anaconda3/envs/nlp/lib/python3.6/site-packages/ipykernel_launcher.py:2: SettingWithCopyWarning: \n",
      "A value is trying to be set on a copy of a slice from a DataFrame.\n",
      "Try using .loc[row_indexer,col_indexer] = value instead\n",
      "\n",
      "See the caveats in the documentation: http://pandas.pydata.org/pandas-docs/stable/indexing.html#indexing-view-versus-copy\n",
      "  \n"
     ]
    }
   ],
   "source": [
    "train['word_id'] = train.words.apply(lambda x: [word_id_dict.get(word) for word in x])\n",
    "test['word_id'] = test.words.apply(lambda x: [word_id_dict.get(word) for word in x])"
   ]
  },
  {
   "cell_type": "code",
   "execution_count": 253,
   "metadata": {},
   "outputs": [],
   "source": [
    "X_train_bow = np.zeros([len(train), len(id_word_dict)])\n",
    "for idx, words in enumerate(train.word_id.tolist()):\n",
    "    for w in words:\n",
    "        X_train_bow[idx][w] += 1\n",
    "        \n",
    "X_test_bow = np.zeros([len(test), len(id_word_dict)])\n",
    "for idx, words in enumerate(test.word_id.tolist()):\n",
    "    for w in words:\n",
    "        X_test_bow[idx][w] += 1"
   ]
  },
  {
   "cell_type": "code",
   "execution_count": 153,
   "metadata": {},
   "outputs": [],
   "source": [
    "from sklearn.metrics import accuracy_score\n",
    "\n",
    "def train_model(classifier, train_data, train_y, test_data, test_y):\n",
    "    classifier.fit(train_data, train_y)\n",
    "    predictions = classifier.predict(test_data)\n",
    "    return accuracy_score(predictions, test_y)"
   ]
  },
  {
   "cell_type": "code",
   "execution_count": 259,
   "metadata": {},
   "outputs": [
    {
     "data": {
      "text/plain": [
       "0.6351315439808664"
      ]
     },
     "execution_count": 259,
     "metadata": {},
     "output_type": "execute_result"
    }
   ],
   "source": [
    "train_model(MultinomialNB(), X_train_bow, y_train, X_test_bow, y_test)"
   ]
  },
  {
   "cell_type": "markdown",
   "metadata": {},
   "source": [
    "# TF-IDF Features"
   ]
  },
  {
   "cell_type": "code",
   "execution_count": 201,
   "metadata": {
    "collapsed": true
   },
   "outputs": [
    {
     "data": {
      "text/plain": [
       "TfidfVectorizer(analyzer='word', binary=False, decode_error='strict',\n",
       "        dtype=<class 'numpy.int64'>, encoding='utf-8', input='content',\n",
       "        lowercase=True, max_df=1.0, max_features=None, min_df=1,\n",
       "        ngram_range=(1, 1), norm='l2', preprocessor=None, smooth_idf=True,\n",
       "        stop_words=None, strip_accents=None, sublinear_tf=False,\n",
       "        token_pattern='(?u)\\\\b\\\\w\\\\w+\\\\b', tokenizer=None, use_idf=True,\n",
       "        vocabulary=None)"
      ]
     },
     "execution_count": 201,
     "metadata": {},
     "output_type": "execute_result"
    }
   ],
   "source": [
    "from sklearn.feature_extraction.text import TfidfVectorizer\n",
    "\n",
    "corpus = [' '.join(item) for item in train.words.tolist()]\n",
    "\n",
    "tfidf = TfidfVectorizer()\n",
    "tfidf.fit(corpus)"
   ]
  },
  {
   "cell_type": "code",
   "execution_count": 202,
   "metadata": {},
   "outputs": [],
   "source": [
    "X_train_tfidf = tfidf.transform([' '.join(item) for item in train.words.tolist()])\n",
    "X_test_tfidf = tfidf.transform([' '.join(item) for item in test.words.tolist()])"
   ]
  },
  {
   "cell_type": "code",
   "execution_count": 203,
   "metadata": {},
   "outputs": [
    {
     "data": {
      "text/plain": [
       "0.7954646115687838"
      ]
     },
     "execution_count": 203,
     "metadata": {},
     "output_type": "execute_result"
    }
   ],
   "source": [
    "train_model(MultinomialNB(), X_train_tfidf, y_train, X_test_tfidf, y_test)"
   ]
  },
  {
   "cell_type": "markdown",
   "metadata": {},
   "source": [
    "# BERT Encoding Features"
   ]
  },
  {
   "cell_type": "code",
   "execution_count": 159,
   "metadata": {},
   "outputs": [],
   "source": [
    "from bert_serving.client import BertClient\n",
    "bc = BertClient()"
   ]
  },
  {
   "cell_type": "code",
   "execution_count": 184,
   "metadata": {},
   "outputs": [],
   "source": [
    "X_train_bert = bc.encode(train.review.tolist())\n",
    "X_test_bert = bc.encode(test.review.tolist())"
   ]
  },
  {
   "cell_type": "code",
   "execution_count": 206,
   "metadata": {},
   "outputs": [],
   "source": [
    "# The encoding process cost some time, save the encodings to file for convenience\n",
    "import pickle\n",
    "with open('bert_encode.pkl', 'wb') as f:\n",
    "    pickle.dump((X_train_bert, X_test_bert, train, test), f)"
   ]
  },
  {
   "cell_type": "code",
   "execution_count": 260,
   "metadata": {},
   "outputs": [],
   "source": [
    "from keras.layers import Input, MaxPooling1D, Flatten, Dense\n",
    "from keras.models import Model"
   ]
  },
  {
   "cell_type": "code",
   "execution_count": 261,
   "metadata": {},
   "outputs": [],
   "source": [
    "input_size = X_train_bert.shape[1]"
   ]
  },
  {
   "cell_type": "code",
   "execution_count": 265,
   "metadata": {},
   "outputs": [],
   "source": [
    "input_layer = Input(shape=(input_size,))\n",
    "hidden_layer = Dense(100, activation=\"relu\")(input_layer)\n",
    "output_layer = Dense(10, activation=\"softmax\")(hidden_layer)\n",
    "\n",
    "model = Model(input_layer, output_layer)\n",
    "model.compile(loss='categorical_crossentropy',\n",
    "              optimizer='adam',\n",
    "              metrics=['acc'])"
   ]
  },
  {
   "cell_type": "code",
   "execution_count": 266,
   "metadata": {},
   "outputs": [
    {
     "name": "stdout",
     "output_type": "stream",
     "text": [
      "_________________________________________________________________\n",
      "Layer (type)                 Output Shape              Param #   \n",
      "=================================================================\n",
      "input_2 (InputLayer)         (None, 768)               0         \n",
      "_________________________________________________________________\n",
      "dense_1 (Dense)              (None, 100)               76900     \n",
      "_________________________________________________________________\n",
      "dense_2 (Dense)              (None, 10)                1010      \n",
      "=================================================================\n",
      "Total params: 77,910\n",
      "Trainable params: 77,910\n",
      "Non-trainable params: 0\n",
      "_________________________________________________________________\n"
     ]
    }
   ],
   "source": [
    "model.summary()"
   ]
  },
  {
   "cell_type": "code",
   "execution_count": 268,
   "metadata": {},
   "outputs": [],
   "source": [
    "from keras.utils import to_categorical"
   ]
  },
  {
   "cell_type": "code",
   "execution_count": 270,
   "metadata": {},
   "outputs": [],
   "source": [
    "y_train_onehot = to_categorical(y_train)\n",
    "y_test_onehot = to_categorical(y_test)"
   ]
  },
  {
   "cell_type": "code",
   "execution_count": 271,
   "metadata": {},
   "outputs": [
    {
     "name": "stdout",
     "output_type": "stream",
     "text": [
      "Epoch 1/5\n",
      "45155/45155 [==============================] - 3s 64us/step - loss: 0.5873 - acc: 0.7905\n",
      "Epoch 2/5\n",
      " 7712/45155 [===>..........................] - ETA: 1s - loss: 0.4525 - acc: 0.830"
     ]
    },
    {
     "data": {
      "text/html": [
       "<b>limit_output extension: Maximum message size of 10000 exceeded with 10075 characters</b>"
      ]
     },
     "metadata": {},
     "output_type": "display_data"
    }
   ],
   "source": [
    "model.fit(X_train_bert, y_train_onehot, batch_size=32, epochs=5)"
   ]
  },
  {
   "cell_type": "code",
   "execution_count": 272,
   "metadata": {},
   "outputs": [
    {
     "name": "stdout",
     "output_type": "stream",
     "text": [
      "11289/11289 [==============================] - 0s 31us/step\n"
     ]
    },
    {
     "data": {
      "text/plain": [
       "[0.4655078290924146, 0.8294800247923457]"
      ]
     },
     "execution_count": 272,
     "metadata": {},
     "output_type": "execute_result"
    }
   ],
   "source": [
    "model.evaluate(X_test_bert, y_test_onehot)"
   ]
  },
  {
   "cell_type": "code",
   "execution_count": null,
   "metadata": {},
   "outputs": [],
   "source": []
  }
 ],
 "metadata": {
  "kernelspec": {
   "display_name": "Python 3",
   "language": "python",
   "name": "python3"
  },
  "language_info": {
   "codemirror_mode": {
    "name": "ipython",
    "version": 3
   },
   "file_extension": ".py",
   "mimetype": "text/x-python",
   "name": "python",
   "nbconvert_exporter": "python",
   "pygments_lexer": "ipython3",
   "version": "3.6.8"
  },
  "toc": {
   "base_numbering": 1,
   "nav_menu": {},
   "number_sections": true,
   "sideBar": true,
   "skip_h1_title": false,
   "title_cell": "Table of Contents",
   "title_sidebar": "Contents",
   "toc_cell": false,
   "toc_position": {
    "height": "calc(100% - 180px)",
    "left": "10px",
    "top": "150px",
    "width": "177px"
   },
   "toc_section_display": true,
   "toc_window_display": true
  }
 },
 "nbformat": 4,
 "nbformat_minor": 2
}
