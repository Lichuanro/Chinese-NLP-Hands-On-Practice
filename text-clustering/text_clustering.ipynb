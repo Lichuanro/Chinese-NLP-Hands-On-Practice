{
 "cells": [
  {
   "cell_type": "code",
   "execution_count": 2,
   "metadata": {},
   "outputs": [],
   "source": [
    "import numpy as np\n",
    "import pandas as pd\n",
    "import re\n",
    "import itertools\n",
    "from collections import Counter\n",
    "import pickle\n",
    "import jieba\n",
    "import matplotlib.pyplot as plt\n",
    "plt.style.use('fivethirtyeight')\n",
    "%matplotlib inline"
   ]
  },
  {
   "cell_type": "markdown",
   "metadata": {},
   "source": [
    "# Read the Dataset"
   ]
  },
  {
   "cell_type": "code",
   "execution_count": 3,
   "metadata": {},
   "outputs": [
    {
     "data": {
      "text/html": [
       "<div>\n",
       "<style scoped>\n",
       "    .dataframe tbody tr th:only-of-type {\n",
       "        vertical-align: middle;\n",
       "    }\n",
       "\n",
       "    .dataframe tbody tr th {\n",
       "        vertical-align: top;\n",
       "    }\n",
       "\n",
       "    .dataframe thead th {\n",
       "        text-align: right;\n",
       "    }\n",
       "</style>\n",
       "<table border=\"1\" class=\"dataframe\">\n",
       "  <thead>\n",
       "    <tr style=\"text-align: right;\">\n",
       "      <th></th>\n",
       "      <th>cat</th>\n",
       "      <th>review</th>\n",
       "    </tr>\n",
       "  </thead>\n",
       "  <tbody>\n",
       "    <tr>\n",
       "      <th>3841</th>\n",
       "      <td>书籍</td>\n",
       "      <td>《不一样的卡梅拉》的确不一样！家里那么多图书，儿子偏偏对它情有独钟。没事就把它从书架上拿下来...</td>\n",
       "    </tr>\n",
       "    <tr>\n",
       "      <th>44243</th>\n",
       "      <td>衣服</td>\n",
       "      <td>裤子还凑活有点太古板</td>\n",
       "    </tr>\n",
       "    <tr>\n",
       "      <th>9015</th>\n",
       "      <td>平板</td>\n",
       "      <td>差评，京东玩文字游戏，在线咨询有赠品，购买后，就随机5选1，差评，差评，差评</td>\n",
       "    </tr>\n",
       "    <tr>\n",
       "      <th>18367</th>\n",
       "      <td>水果</td>\n",
       "      <td>有点小，吃着脆甜，包装很好，孩子喜欢吃，物流比较快，服务态度也不错。</td>\n",
       "    </tr>\n",
       "    <tr>\n",
       "      <th>36857</th>\n",
       "      <td>蒙牛</td>\n",
       "      <td>蒙牛不错</td>\n",
       "    </tr>\n",
       "    <tr>\n",
       "      <th>58764</th>\n",
       "      <td>酒店</td>\n",
       "      <td>很晚到的酒店 酒店一般般</td>\n",
       "    </tr>\n",
       "    <tr>\n",
       "      <th>299</th>\n",
       "      <td>书籍</td>\n",
       "      <td>这本书是我读林达的书的第一本,正是这本书吸引我买了一套他的书.作为一位在西方生活了很长时间的...</td>\n",
       "    </tr>\n",
       "    <tr>\n",
       "      <th>27264</th>\n",
       "      <td>洗发水</td>\n",
       "      <td>很划算，小支的方便携带。有两大瓶洗发水和一瓶护发素，很实用哟！每次洗头得两次，再也不会担心洗...</td>\n",
       "    </tr>\n",
       "    <tr>\n",
       "      <th>34616</th>\n",
       "      <td>洗发水</td>\n",
       "      <td>都洒在盒子里里，京东现在怎么也变成这样了啊……</td>\n",
       "    </tr>\n",
       "    <tr>\n",
       "      <th>60443</th>\n",
       "      <td>酒店</td>\n",
       "      <td>酒店位置和服务都不错。所以已经第二次入住北京昆仑饭店。虽然携程预订页面说目前北京全城禁烟，酒...</td>\n",
       "    </tr>\n",
       "  </tbody>\n",
       "</table>\n",
       "</div>"
      ],
      "text/plain": [
       "       cat                                             review\n",
       "3841    书籍  《不一样的卡梅拉》的确不一样！家里那么多图书，儿子偏偏对它情有独钟。没事就把它从书架上拿下来...\n",
       "44243   衣服                                         裤子还凑活有点太古板\n",
       "9015    平板             差评，京东玩文字游戏，在线咨询有赠品，购买后，就随机5选1，差评，差评，差评\n",
       "18367   水果                 有点小，吃着脆甜，包装很好，孩子喜欢吃，物流比较快，服务态度也不错。\n",
       "36857   蒙牛                                               蒙牛不错\n",
       "58764   酒店                                       很晚到的酒店 酒店一般般\n",
       "299     书籍  这本书是我读林达的书的第一本,正是这本书吸引我买了一套他的书.作为一位在西方生活了很长时间的...\n",
       "27264  洗发水  很划算，小支的方便携带。有两大瓶洗发水和一瓶护发素，很实用哟！每次洗头得两次，再也不会担心洗...\n",
       "34616  洗发水                            都洒在盒子里里，京东现在怎么也变成这样了啊……\n",
       "60443   酒店  酒店位置和服务都不错。所以已经第二次入住北京昆仑饭店。虽然携程预订页面说目前北京全城禁烟，酒..."
      ]
     },
     "execution_count": 3,
     "metadata": {},
     "output_type": "execute_result"
    }
   ],
   "source": [
    "data = pd.read_csv('./online_shopping_10_cats.csv')\n",
    "data = data[['cat', 'review']] # only keep the review text\n",
    "data.sample(10) # get a sample to take a look at the data"
   ]
  },
  {
   "cell_type": "markdown",
   "metadata": {},
   "source": [
    "# Data Preprocess"
   ]
  },
  {
   "cell_type": "code",
   "execution_count": 59,
   "metadata": {},
   "outputs": [],
   "source": [
    "# Select 1000 items for quick calculation, I selected 100 reviews from each category to make a balanced dataset\n",
    "select_data = data.groupby('cat', group_keys=False).apply(pd.DataFrame.sample, 100)"
   ]
  },
  {
   "cell_type": "code",
   "execution_count": 15,
   "metadata": {},
   "outputs": [],
   "source": [
    "def clean_data(text):\n",
    "    cleaned_text = re.sub(r\"[\\s\\/\\\\_$^*(+\\\"\\'+~\\-@#&^*\\[\\]{}【】]+\", \"\", str(text))\n",
    "    return cleaned_text"
   ]
  },
  {
   "cell_type": "code",
   "execution_count": 61,
   "metadata": {},
   "outputs": [],
   "source": [
    "select_data['cleaned_text'] = select_data.review.apply(clean_data)"
   ]
  },
  {
   "cell_type": "code",
   "execution_count": 62,
   "metadata": {},
   "outputs": [],
   "source": [
    "text_length = select_data.cleaned_text.apply(len)"
   ]
  },
  {
   "cell_type": "code",
   "execution_count": 63,
   "metadata": {},
   "outputs": [
    {
     "data": {
      "text/plain": [
       "count    1000.00000\n",
       "mean       63.21700\n",
       "std        89.24534\n",
       "min         2.00000\n",
       "25%        20.00000\n",
       "50%        35.00000\n",
       "75%        70.00000\n",
       "max       969.00000\n",
       "Name: cleaned_text, dtype: float64"
      ]
     },
     "execution_count": 63,
     "metadata": {},
     "output_type": "execute_result"
    }
   ],
   "source": [
    "text_length.describe()"
   ]
  },
  {
   "cell_type": "code",
   "execution_count": 64,
   "metadata": {},
   "outputs": [
    {
     "data": {
      "text/html": [
       "<div>\n",
       "<style scoped>\n",
       "    .dataframe tbody tr th:only-of-type {\n",
       "        vertical-align: middle;\n",
       "    }\n",
       "\n",
       "    .dataframe tbody tr th {\n",
       "        vertical-align: top;\n",
       "    }\n",
       "\n",
       "    .dataframe thead th {\n",
       "        text-align: right;\n",
       "    }\n",
       "</style>\n",
       "<table border=\"1\" class=\"dataframe\">\n",
       "  <thead>\n",
       "    <tr style=\"text-align: right;\">\n",
       "      <th></th>\n",
       "      <th>cat</th>\n",
       "      <th>review</th>\n",
       "      <th>cleaned_text</th>\n",
       "    </tr>\n",
       "  </thead>\n",
       "  <tbody>\n",
       "    <tr>\n",
       "      <th>36185</th>\n",
       "      <td>热水器</td>\n",
       "      <td>可以</td>\n",
       "      <td>可以</td>\n",
       "    </tr>\n",
       "  </tbody>\n",
       "</table>\n",
       "</div>"
      ],
      "text/plain": [
       "       cat review cleaned_text\n",
       "36185  热水器     可以           可以"
      ]
     },
     "execution_count": 64,
     "metadata": {},
     "output_type": "execute_result"
    }
   ],
   "source": [
    "select_data.loc[text_length == text_length.min()]"
   ]
  },
  {
   "cell_type": "code",
   "execution_count": 65,
   "metadata": {},
   "outputs": [],
   "source": [
    "select_data['words'] = select_data.cleaned_text.apply(jieba.lcut)"
   ]
  },
  {
   "cell_type": "markdown",
   "metadata": {},
   "source": [
    "# Features"
   ]
  },
  {
   "cell_type": "markdown",
   "metadata": {},
   "source": [
    "## Bag of words"
   ]
  },
  {
   "cell_type": "code",
   "execution_count": 66,
   "metadata": {},
   "outputs": [],
   "source": [
    "# Build a dictionary\n",
    "word_counter = Counter([x for y in select_data.words.tolist() for x in y])\n",
    "id_word_dict = {idx: item[0] for idx, item in enumerate(word_counter.most_common())}\n",
    "word_id_dict = {word: idx for idx, word in id_word_dict.items()}"
   ]
  },
  {
   "cell_type": "code",
   "execution_count": 67,
   "metadata": {},
   "outputs": [],
   "source": [
    "# Convert word list to id list\n",
    "def word_to_id(word_list):\n",
    "    return [word_id_dict[w] for w in word_list]\n",
    "\n",
    "select_data['word_id'] = select_data.words.apply(word_to_id)"
   ]
  },
  {
   "cell_type": "code",
   "execution_count": 68,
   "metadata": {},
   "outputs": [
    {
     "data": {
      "text/plain": [
       "(1000, 7350)"
      ]
     },
     "execution_count": 68,
     "metadata": {},
     "output_type": "execute_result"
    }
   ],
   "source": [
    "# Create a matrix for the feature\n",
    "bow_encoding = np.zeros([len(select_data), len(id_word_dict)])\n",
    "bow_encoding.shape"
   ]
  },
  {
   "cell_type": "code",
   "execution_count": 69,
   "metadata": {},
   "outputs": [],
   "source": [
    "# Count the words and add to feature\n",
    "for idx, words in enumerate(select_data.word_id.tolist()):\n",
    "    for w in words:\n",
    "        bow_encoding[idx][w] += 1"
   ]
  },
  {
   "cell_type": "markdown",
   "metadata": {},
   "source": [
    "## TF-IDF"
   ]
  },
  {
   "cell_type": "code",
   "execution_count": 52,
   "metadata": {},
   "outputs": [],
   "source": [
    "from sklearn.feature_extraction.text import TfidfVectorizer\n",
    "\n",
    "corpus = [' '.join(item) for item in select_data.words.tolist()]\n",
    "\n",
    "tfidf = TfidfVectorizer()\n",
    "tfidf_encoding = tfidf.fit_transform(corpus)"
   ]
  },
  {
   "cell_type": "code",
   "execution_count": 53,
   "metadata": {},
   "outputs": [
    {
     "data": {
      "text/plain": [
       "(1000, 6430)"
      ]
     },
     "execution_count": 53,
     "metadata": {},
     "output_type": "execute_result"
    }
   ],
   "source": [
    "tfidf_encoding.shape"
   ]
  },
  {
   "cell_type": "markdown",
   "metadata": {},
   "source": [
    "## Bert Encoding"
   ]
  },
  {
   "cell_type": "code",
   "execution_count": 79,
   "metadata": {},
   "outputs": [],
   "source": [
    "from bert_serving.client import BertClient\n",
    "bc = BertClient()"
   ]
  },
  {
   "cell_type": "code",
   "execution_count": 80,
   "metadata": {},
   "outputs": [
    {
     "name": "stdout",
     "output_type": "stream",
     "text": [
      "some of your sentences have more tokens than \"max_seq_len=25\" set on the server, as consequence you may get less-accurate or truncated embeddings.\n",
      "here is what you can do:\n",
      "- disable the length-check by create a new \"BertClient(check_length=False)\" when you just want to ignore this warning\n",
      "- or, start a new server with a larger \"max_seq_len\"\n"
     ]
    }
   ],
   "source": [
    "bert_encoding = bc.encode(select_data.review.tolist())"
   ]
  },
  {
   "cell_type": "markdown",
   "metadata": {},
   "source": [
    "# Clustering with K-Means"
   ]
  },
  {
   "cell_type": "code",
   "execution_count": 77,
   "metadata": {},
   "outputs": [],
   "source": [
    "# Start clustering\n",
    "from sklearn.cluster import KMeans\n",
    "N_clusters = 50 # Just set a number of clusters\n",
    "bow_pred = KMeans(n_clusters=N_clusters, random_state=0).fit_predict(bow_encoding)"
   ]
  },
  {
   "cell_type": "code",
   "execution_count": 78,
   "metadata": {},
   "outputs": [
    {
     "data": {
      "text/plain": [
       "(array([ 66.,   1.,  10., 208.,  19.,   1.,   1.,   1.,   1.,   1.,   1.,\n",
       "          3.,   1.,   1.,   1.,  29.,  83.,   1.,   2.,   1.,  29.,   1.,\n",
       "          1.,   1.,   1.,   1.,   1.,   1.,   1.,   1.,   1.,  15.,   1.,\n",
       "          1.,   1.,   1.,   1.,   1.,   1., 320., 100.,   1.,  25.,   7.,\n",
       "          1.,  43.,   1.,   1.,   8.]),\n",
       " array([ 0.,  1.,  2.,  3.,  4.,  5.,  6.,  7.,  8.,  9., 10., 11., 12.,\n",
       "        13., 14., 15., 16., 17., 18., 19., 20., 21., 22., 23., 24., 25.,\n",
       "        26., 27., 28., 29., 30., 31., 32., 33., 34., 35., 36., 37., 38.,\n",
       "        39., 40., 41., 42., 43., 44., 45., 46., 47., 48., 49.]),\n",
       " <a list of 49 Patch objects>)"
      ]
     },
     "execution_count": 78,
     "metadata": {},
     "output_type": "execute_result"
    },
    {
     "data": {
      "image/png": "[encoded data removed]",
      "text/plain": [
       "<Figure size 576x288 with 1 Axes>"
      ]
     },
     "metadata": {},
     "output_type": "display_data"
    }
   ],
   "source": [
    "plt.figure(figsize=[8, 4])\n",
    "plt.title('Bag of Words Clustering')\n",
    "plt.hist(bow_pred, bins=np.linspace(0, N_clusters-1, num=N_clusters))"
   ]
  },
  {
   "cell_type": "markdown",
   "metadata": {},
   "source": [
    "The distribution is very uneven as shown above. Ideally all the reviews should be equally divided into 10 clusters but obviously this cannot happen in reality. "
   ]
  },
  {
   "cell_type": "code",
   "execution_count": 99,
   "metadata": {},
   "outputs": [
    {
     "data": {
      "text/html": [
       "<div>\n",
       "<style scoped>\n",
       "    .dataframe tbody tr th:only-of-type {\n",
       "        vertical-align: middle;\n",
       "    }\n",
       "\n",
       "    .dataframe tbody tr th {\n",
       "        vertical-align: top;\n",
       "    }\n",
       "\n",
       "    .dataframe thead th {\n",
       "        text-align: right;\n",
       "    }\n",
       "</style>\n",
       "<table border=\"1\" class=\"dataframe\">\n",
       "  <thead>\n",
       "    <tr style=\"text-align: right;\">\n",
       "      <th></th>\n",
       "      <th>review</th>\n",
       "    </tr>\n",
       "  </thead>\n",
       "  <tbody>\n",
       "    <tr>\n",
       "      <th>14764</th>\n",
       "      <td>1、桔黄色灯光炫目2、四合弦铃声动听3、七十克机身轻巧4、一星期待机舒服5、200条电话记录...</td>\n",
       "    </tr>\n",
       "    <tr>\n",
       "      <th>15692</th>\n",
       "      <td>1、电话本查找相当不方便（包括查找一个联系人和找到该联系人后查询其名下的各个电话号码）；2、...</td>\n",
       "    </tr>\n",
       "    <tr>\n",
       "      <th>31333</th>\n",
       "      <td>洗了好多头皮屑哦、、、、、、</td>\n",
       "    </tr>\n",
       "    <tr>\n",
       "      <th>27458</th>\n",
       "      <td>物有所值、每次都去超市买、正好京东打折、而且送的小样、可以出差带着、特别方便、还送一个发膜、...</td>\n",
       "    </tr>\n",
       "    <tr>\n",
       "      <th>26950</th>\n",
       "      <td>不错、不错、值得购买哦、洗了一下头发很舒服、一直用沙宣、值得信赖</td>\n",
       "    </tr>\n",
       "    <tr>\n",
       "      <th>37395</th>\n",
       "      <td>我的吃货细胞就要爆发了。眼馋各种好吃的：锅巴、土豆片、牛板筋、蒙牛大果粒、饮料、鸭肠、鸭脖、...</td>\n",
       "    </tr>\n",
       "    <tr>\n",
       "      <th>50154</th>\n",
       "      <td>1、屏幕分辨率高，独显，适合做图 2、速度够快 3、没什么问题，使用非常正常， 4、3DMa...</td>\n",
       "    </tr>\n",
       "  </tbody>\n",
       "</table>\n",
       "</div>"
      ],
      "text/plain": [
       "                                                  review\n",
       "14764  1、桔黄色灯光炫目2、四合弦铃声动听3、七十克机身轻巧4、一星期待机舒服5、200条电话记录...\n",
       "15692  1、电话本查找相当不方便（包括查找一个联系人和找到该联系人后查询其名下的各个电话号码）；2、...\n",
       "31333                                     洗了好多头皮屑哦、、、、、、\n",
       "27458  物有所值、每次都去超市买、正好京东打折、而且送的小样、可以出差带着、特别方便、还送一个发膜、...\n",
       "26950                   不错、不错、值得购买哦、洗了一下头发很舒服、一直用沙宣、值得信赖\n",
       "37395  我的吃货细胞就要爆发了。眼馋各种好吃的：锅巴、土豆片、牛板筋、蒙牛大果粒、饮料、鸭肠、鸭脖、...\n",
       "50154  1、屏幕分辨率高，独显，适合做图 2、速度够快 3、没什么问题，使用非常正常， 4、3DMa..."
      ]
     },
     "execution_count": 99,
     "metadata": {},
     "output_type": "execute_result"
    }
   ],
   "source": [
    "select_data.iloc[list(np.where(bow_pred==48)[0])][['review']]"
   ]
  },
  {
   "cell_type": "code",
   "execution_count": 54,
   "metadata": {},
   "outputs": [],
   "source": [
    "N_clusters = 30\n",
    "tfidf_pred = KMeans(n_clusters=N_clusters, random_state=0).fit_predict(tfidf_encoding)"
   ]
  },
  {
   "cell_type": "code",
   "execution_count": 56,
   "metadata": {},
   "outputs": [
    {
     "data": {
      "text/plain": [
       "(array([ 7., 43., 38., 17., 55., 56., 38., 47., 41., 56., 31., 16., 29.,\n",
       "        25., 29., 21., 61., 30., 34., 34., 36., 41., 30., 35., 45., 41.,\n",
       "        11., 10., 43.]),\n",
       " array([ 0.,  1.,  2.,  3.,  4.,  5.,  6.,  7.,  8.,  9., 10., 11., 12.,\n",
       "        13., 14., 15., 16., 17., 18., 19., 20., 21., 22., 23., 24., 25.,\n",
       "        26., 27., 28., 29.]),\n",
       " <a list of 29 Patch objects>)"
      ]
     },
     "execution_count": 56,
     "metadata": {},
     "output_type": "execute_result"
    },
    {
     "data": {
      "image/png": "[encoded data removed]",
      "text/plain": [
       "<Figure size 576x288 with 1 Axes>"
      ]
     },
     "metadata": {},
     "output_type": "display_data"
    }
   ],
   "source": [
    "plt.figure(figsize=[8, 4])\n",
    "plt.title('TF-IDF Clustering')\n",
    "plt.hist(tfidf_pred, bins=np.linspace(0, N_clusters-1, num=N_clusters))"
   ]
  },
  {
   "cell_type": "markdown",
   "metadata": {},
   "source": [
    "The histogram looks more balanced than the previous bag of words one."
   ]
  },
  {
   "cell_type": "code",
   "execution_count": 58,
   "metadata": {},
   "outputs": [
    {
     "data": {
      "text/html": [
       "<div>\n",
       "<style scoped>\n",
       "    .dataframe tbody tr th:only-of-type {\n",
       "        vertical-align: middle;\n",
       "    }\n",
       "\n",
       "    .dataframe tbody tr th {\n",
       "        vertical-align: top;\n",
       "    }\n",
       "\n",
       "    .dataframe thead th {\n",
       "        text-align: right;\n",
       "    }\n",
       "</style>\n",
       "<table border=\"1\" class=\"dataframe\">\n",
       "  <thead>\n",
       "    <tr style=\"text-align: right;\">\n",
       "      <th></th>\n",
       "      <th>review</th>\n",
       "    </tr>\n",
       "  </thead>\n",
       "  <tbody>\n",
       "    <tr>\n",
       "      <th>13429</th>\n",
       "      <td>不爽，没赠品。。。。。。。。。</td>\n",
       "    </tr>\n",
       "    <tr>\n",
       "      <th>10583</th>\n",
       "      <td>什么赠品都没赠送，东西还比正常的要重，感觉是假的，没办法这价位也就这样了，劝大家别差那点钱，...</td>\n",
       "    </tr>\n",
       "    <tr>\n",
       "      <th>15092</th>\n",
       "      <td>电池太差了！偶尔还死死机．不知其他夏新是不也这样，不爽</td>\n",
       "    </tr>\n",
       "    <tr>\n",
       "      <th>36369</th>\n",
       "      <td>还没拆开，但是包装的很好。第二次来买了，还送了赠品，nice。谢谢</td>\n",
       "    </tr>\n",
       "    <tr>\n",
       "      <th>36670</th>\n",
       "      <td>一次很不爽的购物，页面上说是第二天能到货，结果货是从陕西发出的，卖家完全知道第二天根本到不了...</td>\n",
       "    </tr>\n",
       "    <tr>\n",
       "      <th>36412</th>\n",
       "      <td>正品，赠品也不错</td>\n",
       "    </tr>\n",
       "    <tr>\n",
       "      <th>51828</th>\n",
       "      <td>相比此时一起促销的宏基感觉亏大了。价格降幅，赠品什么都比不上。</td>\n",
       "    </tr>\n",
       "  </tbody>\n",
       "</table>\n",
       "</div>"
      ],
      "text/plain": [
       "                                                  review\n",
       "13429                                    不爽，没赠品。。。。。。。。。\n",
       "10583  什么赠品都没赠送，东西还比正常的要重，感觉是假的，没办法这价位也就这样了，劝大家别差那点钱，...\n",
       "15092                        电池太差了！偶尔还死死机．不知其他夏新是不也这样，不爽\n",
       "36369                  还没拆开，但是包装的很好。第二次来买了，还送了赠品，nice。谢谢\n",
       "36670  一次很不爽的购物，页面上说是第二天能到货，结果货是从陕西发出的，卖家完全知道第二天根本到不了...\n",
       "36412                                           正品，赠品也不错\n",
       "51828                    相比此时一起促销的宏基感觉亏大了。价格降幅，赠品什么都比不上。"
      ]
     },
     "execution_count": 58,
     "metadata": {},
     "output_type": "execute_result"
    }
   ],
   "source": [
    "select_data.iloc[list(np.where(tfidf_pred==0)[0])][['review']]"
   ]
  },
  {
   "cell_type": "markdown",
   "metadata": {},
   "source": [
    "It seems obviously in this cluster every review has the words '赠品'(gift)"
   ]
  },
  {
   "cell_type": "code",
   "execution_count": 81,
   "metadata": {},
   "outputs": [],
   "source": [
    "N_clusters = 30\n",
    "bert_pred = KMeans(n_clusters=N_clusters, random_state=0).fit_predict(bert_encoding)"
   ]
  },
  {
   "cell_type": "code",
   "execution_count": 82,
   "metadata": {},
   "outputs": [
    {
     "data": {
      "text/plain": [
       "(array([ 15.,  12.,  38.,  44.,  28.,  27.,  32.,  53.,  43.,  23.,  42.,\n",
       "         20.,  57.,  26.,  34.,  35.,  23.,  31.,  30.,  58.,  29.,  27.,\n",
       "          4.,  36.,  51.,  25.,  19.,  38., 100.]),\n",
       " array([ 0.,  1.,  2.,  3.,  4.,  5.,  6.,  7.,  8.,  9., 10., 11., 12.,\n",
       "        13., 14., 15., 16., 17., 18., 19., 20., 21., 22., 23., 24., 25.,\n",
       "        26., 27., 28., 29.]),\n",
       " <a list of 29 Patch objects>)"
      ]
     },
     "execution_count": 82,
     "metadata": {},
     "output_type": "execute_result"
    },
    {
     "data": {
      "image/png": "[encoded data removed]",
      "text/plain": [
       "<Figure size 576x288 with 1 Axes>"
      ]
     },
     "metadata": {},
     "output_type": "display_data"
    }
   ],
   "source": [
    "plt.figure(figsize=[8, 4])\n",
    "plt.title('BERT Clustering')\n",
    "plt.hist(bert_pred, bins=np.linspace(0, N_clusters-1, num=N_clusters))"
   ]
  },
  {
   "cell_type": "code",
   "execution_count": 84,
   "metadata": {},
   "outputs": [
    {
     "data": {
      "text/html": [
       "<div>\n",
       "<style scoped>\n",
       "    .dataframe tbody tr th:only-of-type {\n",
       "        vertical-align: middle;\n",
       "    }\n",
       "\n",
       "    .dataframe tbody tr th {\n",
       "        vertical-align: top;\n",
       "    }\n",
       "\n",
       "    .dataframe thead th {\n",
       "        text-align: right;\n",
       "    }\n",
       "</style>\n",
       "<table border=\"1\" class=\"dataframe\">\n",
       "  <thead>\n",
       "    <tr style=\"text-align: right;\">\n",
       "      <th></th>\n",
       "      <th>review</th>\n",
       "    </tr>\n",
       "  </thead>\n",
       "  <tbody>\n",
       "    <tr>\n",
       "      <th>5635</th>\n",
       "      <td>还不错，孩子用</td>\n",
       "    </tr>\n",
       "    <tr>\n",
       "      <th>4683</th>\n",
       "      <td>很好，很喜欢，价格也不贵</td>\n",
       "    </tr>\n",
       "    <tr>\n",
       "      <th>7926</th>\n",
       "      <td>是的。还不错。挺好的</td>\n",
       "    </tr>\n",
       "    <tr>\n",
       "      <th>3940</th>\n",
       "      <td>还可以，性价比高</td>\n",
       "    </tr>\n",
       "    <tr>\n",
       "      <th>7522</th>\n",
       "      <td>满意！屏够大！电量够足</td>\n",
       "    </tr>\n",
       "    <tr>\n",
       "      <th>7963</th>\n",
       "      <td>非常不错的产品</td>\n",
       "    </tr>\n",
       "    <tr>\n",
       "      <th>36414</th>\n",
       "      <td>东西很好。</td>\n",
       "    </tr>\n",
       "    <tr>\n",
       "      <th>36213</th>\n",
       "      <td>还是不错的.</td>\n",
       "    </tr>\n",
       "    <tr>\n",
       "      <th>36337</th>\n",
       "      <td>很好的商品，家庭必备</td>\n",
       "    </tr>\n",
       "    <tr>\n",
       "      <th>36314</th>\n",
       "      <td>物美价廉，值得拥有</td>\n",
       "    </tr>\n",
       "    <tr>\n",
       "      <th>36446</th>\n",
       "      <td>第二次购买！好好</td>\n",
       "    </tr>\n",
       "    <tr>\n",
       "      <th>36478</th>\n",
       "      <td>很好的东西</td>\n",
       "    </tr>\n",
       "    <tr>\n",
       "      <th>36190</th>\n",
       "      <td>宝贝很满意</td>\n",
       "    </tr>\n",
       "    <tr>\n",
       "      <th>36513</th>\n",
       "      <td>正品，好用</td>\n",
       "    </tr>\n",
       "    <tr>\n",
       "      <th>36204</th>\n",
       "      <td>很不错</td>\n",
       "    </tr>\n",
       "  </tbody>\n",
       "</table>\n",
       "</div>"
      ],
      "text/plain": [
       "             review\n",
       "5635        还不错，孩子用\n",
       "4683   很好，很喜欢，价格也不贵\n",
       "7926     是的。还不错。挺好的\n",
       "3940       还可以，性价比高\n",
       "7522    满意！屏够大！电量够足\n",
       "7963        非常不错的产品\n",
       "36414         东西很好。\n",
       "36213        还是不错的.\n",
       "36337    很好的商品，家庭必备\n",
       "36314     物美价廉，值得拥有\n",
       "36446      第二次购买！好好\n",
       "36478         很好的东西\n",
       "36190         宝贝很满意\n",
       "36513         正品，好用\n",
       "36204           很不错"
      ]
     },
     "execution_count": 84,
     "metadata": {},
     "output_type": "execute_result"
    }
   ],
   "source": [
    "select_data.iloc[list(np.where(bert_pred==0)[0])][['review']]"
   ]
  },
  {
   "cell_type": "code",
   "execution_count": 86,
   "metadata": {},
   "outputs": [
    {
     "data": {
      "text/html": [
       "<div>\n",
       "<style scoped>\n",
       "    .dataframe tbody tr th:only-of-type {\n",
       "        vertical-align: middle;\n",
       "    }\n",
       "\n",
       "    .dataframe tbody tr th {\n",
       "        vertical-align: top;\n",
       "    }\n",
       "\n",
       "    .dataframe thead th {\n",
       "        text-align: right;\n",
       "    }\n",
       "</style>\n",
       "<table border=\"1\" class=\"dataframe\">\n",
       "  <thead>\n",
       "    <tr style=\"text-align: right;\">\n",
       "      <th></th>\n",
       "      <th>review</th>\n",
       "    </tr>\n",
       "  </thead>\n",
       "  <tbody>\n",
       "    <tr>\n",
       "      <th>5498</th>\n",
       "      <td>华为平板M3最新版本emui5.0华为平板m3青春版都是emui5.1。有点看不懂了，旗舰平...</td>\n",
       "    </tr>\n",
       "    <tr>\n",
       "      <th>6015</th>\n",
       "      <td>画面细腻，音效好，使用流畅，物流给力</td>\n",
       "    </tr>\n",
       "    <tr>\n",
       "      <th>14764</th>\n",
       "      <td>1、桔黄色灯光炫目2、四合弦铃声动听3、七十克机身轻巧4、一星期待机舒服5、200条电话记录...</td>\n",
       "    </tr>\n",
       "    <tr>\n",
       "      <th>15870</th>\n",
       "      <td>1.显示效果一般。2.只支持无声视频拍摄。3.软体兼容性和运行速度不能令人满意。4.没有提供...</td>\n",
       "    </tr>\n",
       "    <tr>\n",
       "      <th>14279</th>\n",
       "      <td>1.音质绝佳。左右各有一个立体声扬声器。2.在\"诺基亚6270\"上，NOKIA第一次使用QV...</td>\n",
       "    </tr>\n",
       "    <tr>\n",
       "      <th>14752</th>\n",
       "      <td>待机时间比较长！铃声虽为单声，但和我以前那个单声小灵通相比，还是比较满意。电话薄比较大，可以...</td>\n",
       "    </tr>\n",
       "    <tr>\n",
       "      <th>14616</th>\n",
       "      <td>64和弦，1.8寸26万色TFT，1.3寸LCD，WAP1.2.1，红外，联想输入法，</td>\n",
       "    </tr>\n",
       "    <tr>\n",
       "      <th>14288</th>\n",
       "      <td>这款手机优点很多1、外形很漂亮,我的是一款红色的,满可爱的 2、耐用.不小心摔过两次,一点儿...</td>\n",
       "    </tr>\n",
       "    <tr>\n",
       "      <th>14708</th>\n",
       "      <td>1.屏幕画质比较细腻清晰，色彩艳丽。2.待机时间比较理想，一般不会下来四天时间。3.可以通过...</td>\n",
       "    </tr>\n",
       "    <tr>\n",
       "      <th>14066</th>\n",
       "      <td>W800c是一款集通讯，MP3播放和数码相机等功能与一身的索爱强力机型。1.白色的机身,机身...</td>\n",
       "    </tr>\n",
       "    <tr>\n",
       "      <th>15763</th>\n",
       "      <td>电话本和短信容量比较小，和弦铃声也比较单调，外观看上去不够前卫！</td>\n",
       "    </tr>\n",
       "    <tr>\n",
       "      <th>14765</th>\n",
       "      <td>1、待机、使用时间令人满意，每天打2小时左右地电话，全天待机，一般可以使用2－3天。2、铃声...</td>\n",
       "    </tr>\n",
       "    <tr>\n",
       "      <th>15798</th>\n",
       "      <td>1. 机身不能存短信； 2振机的感觉不明显； 3.电池待机时间短； 4.不能把开关机的声音和...</td>\n",
       "    </tr>\n",
       "    <tr>\n",
       "      <th>16150</th>\n",
       "      <td>功能单一。铃声和单声差不多，谈不上音色的逼真。屏幕显小，和现在很普通的手机比较都显小，不够时...</td>\n",
       "    </tr>\n",
       "    <tr>\n",
       "      <th>14645</th>\n",
       "      <td>支持MP4播放，30M超大内存，能够支持30分钟无间断的影音同步摄录。还可外接T-Flash卡。</td>\n",
       "    </tr>\n",
       "    <tr>\n",
       "      <th>14954</th>\n",
       "      <td>小，漂亮，铃声大</td>\n",
       "    </tr>\n",
       "    <tr>\n",
       "      <th>15729</th>\n",
       "      <td>MP3内存小，像素低，通话声音小，一句话，质量差，千万别买</td>\n",
       "    </tr>\n",
       "    <tr>\n",
       "      <th>14238</th>\n",
       "      <td>1.外型：PT1668继承了普天公司一惯的设计风格和理练推出了这款超薄时尚简约的小灵通。它的...</td>\n",
       "    </tr>\n",
       "    <tr>\n",
       "      <th>14208</th>\n",
       "      <td>1、外观炫酷。三菱M800拥有炫酷的外形，采用双彩屏、折叠式机身设计，使这款手机融入了更多的...</td>\n",
       "    </tr>\n",
       "    <tr>\n",
       "      <th>14421</th>\n",
       "      <td>1 、外观很时尚，少男少女大伯大妈都适合； 2 、功能：很实用，和弦铃声 / 自动开关机 /...</td>\n",
       "    </tr>\n",
       "    <tr>\n",
       "      <th>16057</th>\n",
       "      <td>1、手机无法直接使用SD卡中内容（如SD卡中的mp3歌曲），机器内存太小。手机无法直接将mp...</td>\n",
       "    </tr>\n",
       "    <tr>\n",
       "      <th>14413</th>\n",
       "      <td>1.屏幕比较清晰鲜艳.2.DV摄像功能 ,可以把拍摄的片段发到电脑中保存.3.拍照相当清晰,...</td>\n",
       "    </tr>\n",
       "    <tr>\n",
       "      <th>14192</th>\n",
       "      <td>价格便宜。屏幕超大，可显示8行中文！32和弦名符其实。红外接口。支持彩信，可玩性强。</td>\n",
       "    </tr>\n",
       "    <tr>\n",
       "      <th>13983</th>\n",
       "      <td>铃声清晰，屏幕清晰</td>\n",
       "    </tr>\n",
       "    <tr>\n",
       "      <th>14225</th>\n",
       "      <td>外屏为65536色，比较独特。VGA 33万像素摄像头，表现不错。上网速度令人满意。</td>\n",
       "    </tr>\n",
       "    <tr>\n",
       "      <th>15786</th>\n",
       "      <td>1.操作反映速度慢； 2.屏幕色彩不够清晰； 3.电池待机时间短。</td>\n",
       "    </tr>\n",
       "    <tr>\n",
       "      <th>14667</th>\n",
       "      <td>屏大；和弦声音不错；录音可以做铃声；电话本分类多；电池不错；红外适应能力强</td>\n",
       "    </tr>\n",
       "    <tr>\n",
       "      <th>15402</th>\n",
       "      <td>1.不是和弦的铃声； 2.没有振动功能；</td>\n",
       "    </tr>\n",
       "    <tr>\n",
       "      <th>14739</th>\n",
       "      <td>VK900手机各方面操作可以.比较人性化.照像比较好,像这样价格的手机,有这样的性能,我还是...</td>\n",
       "    </tr>\n",
       "    <tr>\n",
       "      <th>14912</th>\n",
       "      <td>1.滑盖的开合动作相当顺畅，力度感不错。2.机身配备了极有创意的触控操作方式，相当舒服。3....</td>\n",
       "    </tr>\n",
       "    <tr>\n",
       "      <th>14100</th>\n",
       "      <td>1，短信功能方便、输入法好用，短信回复报告不占机或卡的内存，机存短信200条，可以一次性删除...</td>\n",
       "    </tr>\n",
       "    <tr>\n",
       "      <th>51620</th>\n",
       "      <td>比较厚，比较沉，但愿今后SL系列也能更精致一些。少了镁制防滚架，A面的手感不太牢靠的说~这些...</td>\n",
       "    </tr>\n",
       "    <tr>\n",
       "      <th>50558</th>\n",
       "      <td>散热好，做工好，耐用，经典，内存条直接使用DDR3的，免得以后被淘汰！钢制铰链很结实！</td>\n",
       "    </tr>\n",
       "    <tr>\n",
       "      <th>50154</th>\n",
       "      <td>1、屏幕分辨率高，独显，适合做图 2、速度够快 3、没什么问题，使用非常正常， 4、3DMa...</td>\n",
       "    </tr>\n",
       "    <tr>\n",
       "      <th>50382</th>\n",
       "      <td>小巧，漂亮，功能齐全，携带方便，电池续航能力较强（虽然没有达到官方所说的９.５个小时）</td>\n",
       "    </tr>\n",
       "    <tr>\n",
       "      <th>49804</th>\n",
       "      <td>外观漂亮,白色键盘抢眼,功能键设置合理;键盘材质好,触感扎实;触摸板做了凸点处理,手感也不错...</td>\n",
       "    </tr>\n",
       "    <tr>\n",
       "      <th>50067</th>\n",
       "      <td>商务机应有的稳定，声音较轻（具体有待日后使用中检验）联想的售后服务非常好，电话客服非常耐心周到。</td>\n",
       "    </tr>\n",
       "    <tr>\n",
       "      <th>50632</th>\n",
       "      <td>速度比想象中快，而且还可以用超频模式，增加15%的CPU速度。硬盘性能也很好。电池耐用。</td>\n",
       "    </tr>\n",
       "  </tbody>\n",
       "</table>\n",
       "</div>"
      ],
      "text/plain": [
       "                                                  review\n",
       "5498   华为平板M3最新版本emui5.0华为平板m3青春版都是emui5.1。有点看不懂了，旗舰平...\n",
       "6015                                  画面细腻，音效好，使用流畅，物流给力\n",
       "14764  1、桔黄色灯光炫目2、四合弦铃声动听3、七十克机身轻巧4、一星期待机舒服5、200条电话记录...\n",
       "15870  1.显示效果一般。2.只支持无声视频拍摄。3.软体兼容性和运行速度不能令人满意。4.没有提供...\n",
       "14279  1.音质绝佳。左右各有一个立体声扬声器。2.在\"诺基亚6270\"上，NOKIA第一次使用QV...\n",
       "14752  待机时间比较长！铃声虽为单声，但和我以前那个单声小灵通相比，还是比较满意。电话薄比较大，可以...\n",
       "14616        64和弦，1.8寸26万色TFT，1.3寸LCD，WAP1.2.1，红外，联想输入法，\n",
       "14288  这款手机优点很多1、外形很漂亮,我的是一款红色的,满可爱的 2、耐用.不小心摔过两次,一点儿...\n",
       "14708  1.屏幕画质比较细腻清晰，色彩艳丽。2.待机时间比较理想，一般不会下来四天时间。3.可以通过...\n",
       "14066  W800c是一款集通讯，MP3播放和数码相机等功能与一身的索爱强力机型。1.白色的机身,机身...\n",
       "15763                   电话本和短信容量比较小，和弦铃声也比较单调，外观看上去不够前卫！\n",
       "14765  1、待机、使用时间令人满意，每天打2小时左右地电话，全天待机，一般可以使用2－3天。2、铃声...\n",
       "15798  1. 机身不能存短信； 2振机的感觉不明显； 3.电池待机时间短； 4.不能把开关机的声音和...\n",
       "16150  功能单一。铃声和单声差不多，谈不上音色的逼真。屏幕显小，和现在很普通的手机比较都显小，不够时...\n",
       "14645   支持MP4播放，30M超大内存，能够支持30分钟无间断的影音同步摄录。还可外接T-Flash卡。\n",
       "14954                                           小，漂亮，铃声大\n",
       "15729                      MP3内存小，像素低，通话声音小，一句话，质量差，千万别买\n",
       "14238  1.外型：PT1668继承了普天公司一惯的设计风格和理练推出了这款超薄时尚简约的小灵通。它的...\n",
       "14208  1、外观炫酷。三菱M800拥有炫酷的外形，采用双彩屏、折叠式机身设计，使这款手机融入了更多的...\n",
       "14421  1 、外观很时尚，少男少女大伯大妈都适合； 2 、功能：很实用，和弦铃声 / 自动开关机 /...\n",
       "16057  1、手机无法直接使用SD卡中内容（如SD卡中的mp3歌曲），机器内存太小。手机无法直接将mp...\n",
       "14413  1.屏幕比较清晰鲜艳.2.DV摄像功能 ,可以把拍摄的片段发到电脑中保存.3.拍照相当清晰,...\n",
       "14192         价格便宜。屏幕超大，可显示8行中文！32和弦名符其实。红外接口。支持彩信，可玩性强。\n",
       "13983                                          铃声清晰，屏幕清晰\n",
       "14225         外屏为65536色，比较独特。VGA 33万像素摄像头，表现不错。上网速度令人满意。\n",
       "15786                  1.操作反映速度慢； 2.屏幕色彩不够清晰； 3.电池待机时间短。\n",
       "14667              屏大；和弦声音不错；录音可以做铃声；电话本分类多；电池不错；红外适应能力强\n",
       "15402                               1.不是和弦的铃声； 2.没有振动功能；\n",
       "14739  VK900手机各方面操作可以.比较人性化.照像比较好,像这样价格的手机,有这样的性能,我还是...\n",
       "14912  1.滑盖的开合动作相当顺畅，力度感不错。2.机身配备了极有创意的触控操作方式，相当舒服。3....\n",
       "14100  1，短信功能方便、输入法好用，短信回复报告不占机或卡的内存，机存短信200条，可以一次性删除...\n",
       "51620  比较厚，比较沉，但愿今后SL系列也能更精致一些。少了镁制防滚架，A面的手感不太牢靠的说~这些...\n",
       "50558        散热好，做工好，耐用，经典，内存条直接使用DDR3的，免得以后被淘汰！钢制铰链很结实！\n",
       "50154  1、屏幕分辨率高，独显，适合做图 2、速度够快 3、没什么问题，使用非常正常， 4、3DMa...\n",
       "50382        小巧，漂亮，功能齐全，携带方便，电池续航能力较强（虽然没有达到官方所说的９.５个小时）\n",
       "49804  外观漂亮,白色键盘抢眼,功能键设置合理;键盘材质好,触感扎实;触摸板做了凸点处理,手感也不错...\n",
       "50067   商务机应有的稳定，声音较轻（具体有待日后使用中检验）联想的售后服务非常好，电话客服非常耐心周到。\n",
       "50632       速度比想象中快，而且还可以用超频模式，增加15%的CPU速度。硬盘性能也很好。电池耐用。"
      ]
     },
     "execution_count": 86,
     "metadata": {},
     "output_type": "execute_result"
    }
   ],
   "source": [
    "select_data.iloc[list(np.where(bert_pred==2)[0])][['review']]"
   ]
  },
  {
   "cell_type": "code",
   "execution_count": null,
   "metadata": {},
   "outputs": [],
   "source": []
  }
 ],
 "metadata": {
  "kernelspec": {
   "display_name": "Python 3",
   "language": "python",
   "name": "python3"
  },
  "language_info": {
   "codemirror_mode": {
    "name": "ipython",
    "version": 3
   },
   "file_extension": ".py",
   "mimetype": "text/x-python",
   "name": "python",
   "nbconvert_exporter": "python",
   "pygments_lexer": "ipython3",
   "version": "3.6.8"
  },
  "toc": {
   "base_numbering": 1,
   "nav_menu": {},
   "number_sections": true,
   "sideBar": true,
   "skip_h1_title": false,
   "title_cell": "Table of Contents",
   "title_sidebar": "Contents",
   "toc_cell": false,
   "toc_position": {},
   "toc_section_display": true,
   "toc_window_display": true
  }
 },
 "nbformat": 4,
 "nbformat_minor": 2
}
