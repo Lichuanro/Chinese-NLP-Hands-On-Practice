{
 "cells": [
  {
   "cell_type": "code",
   "execution_count": 29,
   "metadata": {},
   "outputs": [
    {
     "name": "stderr",
     "output_type": "stream",
     "text": [
      "Using TensorFlow backend.\n"
     ]
    }
   ],
   "source": [
    "from collections import Counter\n",
    "import pickle\n",
    "import numpy as np\n",
    "import tensorflow as tf\n",
    "import pandas as pd\n",
    "from keras.models import Model\n",
    "from keras.layers import LSTM, Embedding, Dense, TimeDistributed, Dropout, Bidirectional, Lambda, Input, add\n",
    "from keras.preprocessing.sequence import pad_sequences\n",
    "from keras.utils import to_categorical"
   ]
  },
  {
   "cell_type": "markdown",
   "metadata": {},
   "source": [
    "## Preprocess Data"
   ]
  },
  {
   "cell_type": "code",
   "execution_count": 17,
   "metadata": {},
   "outputs": [],
   "source": [
    "sentence_list = []\n",
    "sentence_tag_list = []\n",
    "sentence = []\n",
    "sentence_tag = []\n",
    "\n",
    "with open('./ner_data/msra_train.txt') as f:\n",
    "    for line in f:\n",
    "        if len(line) > 2:\n",
    "            char, tag = line.split()\n",
    "            sentence.append(char)\n",
    "            sentence_tag.append(tag)\n",
    "        else:\n",
    "            sentence_list.append(sentence)\n",
    "            sentence = []\n",
    "            sentence_tag_list.append(sentence_tag)\n",
    "            sentence_tag = []"
   ]
  },
  {
   "cell_type": "code",
   "execution_count": 18,
   "metadata": {},
   "outputs": [],
   "source": [
    "char_set = set([char for sent in sentence_list for char in sent])\n",
    "id_char_dict = {(idx+2): elem[0] for idx, elem in enumerate(char_set)}\n",
    "\n",
    "id_char_dict[0] = \"<PAD>\" # special token for padding\n",
    "id_char_dict[1] = \"<UNK>\" # special token for unknown(not in the dictionary)\n",
    "\n",
    "char_id_dict = {v: k for k, v in id_char_dict.items()}"
   ]
  },
  {
   "cell_type": "code",
   "execution_count": 19,
   "metadata": {},
   "outputs": [],
   "source": [
    "import pickle"
   ]
  },
  {
   "cell_type": "code",
   "execution_count": 20,
   "metadata": {},
   "outputs": [],
   "source": [
    "# save for later use\n",
    "with open('./ner_data/processed/msra_char_id_dict.pkl', 'wb') as f:\n",
    "    pickle.dump((char_id_dict, id_char_dict), f)"
   ]
  },
  {
   "cell_type": "code",
   "execution_count": 21,
   "metadata": {},
   "outputs": [
    {
     "name": "stdout",
     "output_type": "stream",
     "text": [
      "['２', '、', '国', '家', '林', '业', '局', '副', '局', '长', '李', '育', '才', '只', '能', '通', '过', '卫', '星', '电', '话', '协', '调', '云', '南', '空', '运', '洒', '水', '外', '挂', '件', '。']\n",
      "['O', 'O', 'B-ORG', 'I-ORG', 'I-ORG', 'I-ORG', 'I-ORG', 'O', 'O', 'O', 'B-PER', 'I-PER', 'I-PER', 'O', 'O', 'O', 'O', 'O', 'O', 'O', 'O', 'O', 'O', 'B-LOC', 'I-LOC', 'O', 'O', 'O', 'O', 'O', 'O', 'O', 'O']\n"
     ]
    }
   ],
   "source": [
    "print(sentence_list[1692])\n",
    "print(sentence_tag_list[1692])"
   ]
  },
  {
   "cell_type": "code",
   "execution_count": 22,
   "metadata": {},
   "outputs": [],
   "source": [
    "with open('./ner_data/processed/msra_encoded_sentence.pkl', 'wb') as f:\n",
    "    pickle.dump((sentence_list, sentence_tag_list), f)"
   ]
  },
  {
   "cell_type": "code",
   "execution_count": 23,
   "metadata": {},
   "outputs": [],
   "source": [
    "id_tag_dict = {idx: v for idx, v in enumerate(sorted( list(tag_set) )[::-1])}\n",
    "tag_id_dict = {v: k for k, v in id_tag_dict.items()}"
   ]
  },
  {
   "cell_type": "code",
   "execution_count": 24,
   "metadata": {},
   "outputs": [],
   "source": [
    "def encode_sentence(sentence_list, char_id_dict=char_id_dict):\n",
    "    sentence_encoded_list = []\n",
    "    for s in sentence_list:\n",
    "        sentence_encoded = []\n",
    "        for w in s:\n",
    "            c = char_id_dict.get( w, char_id_dict.get('<UNK>') )\n",
    "            sentence_encoded.append(c)\n",
    "        sentence_encoded_list.append(sentence_encoded)\n",
    "    return sentence_encoded_list\n",
    "\n",
    "def encode_tag(tag_list, tag_id_dict=tag_id_dict):\n",
    "    tag_encoded_list = []\n",
    "    for s in tag_list:\n",
    "        tag_encoded = []\n",
    "        for w in s:\n",
    "            c = tag_id_dict.get(w)\n",
    "            tag_encoded.append(c)\n",
    "        tag_encoded_list.append(tag_encoded)\n",
    "    return tag_encoded_list\n",
    "\n",
    "def decode_sentence_single(sentence, id_char_dict=id_char_dict):\n",
    "    decode_sent = []\n",
    "    for c in sentence:\n",
    "        decode_sent.append(id_char_dict.get(c, '<UNK>'))\n",
    "    return decode_sent\n",
    "\n",
    "def decode_tag_single(tags, id_tag_dict=id_tag_dict):\n",
    "    decode_tag = []\n",
    "    for row in tags:\n",
    "        idx = np.argmax(row)\n",
    "        decode_tag.append(id_tag_dict.get(idx))\n",
    "    return decode_tag"
   ]
  },
  {
   "cell_type": "code",
   "execution_count": 25,
   "metadata": {},
   "outputs": [
    {
     "data": {
      "text/plain": [
       "{'B-LOC', 'B-ORG', 'B-PER', 'I-LOC', 'I-ORG', 'I-PER', 'O'}"
      ]
     },
     "execution_count": 25,
     "metadata": {},
     "output_type": "execute_result"
    }
   ],
   "source": [
    "tag_set"
   ]
  },
  {
   "cell_type": "code",
   "execution_count": 26,
   "metadata": {},
   "outputs": [
    {
     "data": {
      "text/plain": [
       "{0: 'O',\n",
       " 1: 'I-PER',\n",
       " 2: 'I-ORG',\n",
       " 3: 'I-LOC',\n",
       " 4: 'B-PER',\n",
       " 5: 'B-ORG',\n",
       " 6: 'B-LOC'}"
      ]
     },
     "execution_count": 26,
     "metadata": {},
     "output_type": "execute_result"
    }
   ],
   "source": [
    "id_tag_dict"
   ]
  },
  {
   "cell_type": "markdown",
   "metadata": {},
   "source": [
    "## Analysis Data"
   ]
  },
  {
   "cell_type": "code",
   "execution_count": 88,
   "metadata": {},
   "outputs": [],
   "source": [
    "import numpy as np\n",
    "import matplotlib.pyplot as plt\n",
    "\n",
    "%matplotlib inline"
   ]
  },
  {
   "cell_type": "code",
   "execution_count": 150,
   "metadata": {},
   "outputs": [],
   "source": [
    "plt.style.use('fivethirtyeight')"
   ]
  },
  {
   "cell_type": "code",
   "execution_count": 162,
   "metadata": {},
   "outputs": [
    {
     "data": {
      "text/plain": [
       "{'whiskers': [<matplotlib.lines.Line2D at 0x15153d0b8>,\n",
       "  <matplotlib.lines.Line2D at 0x15153d588>],\n",
       " 'caps': [<matplotlib.lines.Line2D at 0x15153d9e8>,\n",
       "  <matplotlib.lines.Line2D at 0x15153de48>],\n",
       " 'boxes': [<matplotlib.lines.Line2D at 0x151cf0ef0>],\n",
       " 'medians': [<matplotlib.lines.Line2D at 0x1515452e8>],\n",
       " 'fliers': [<matplotlib.lines.Line2D at 0x151545748>],\n",
       " 'means': []}"
      ]
     },
     "execution_count": 162,
     "metadata": {},
     "output_type": "execute_result"
    },
    {
     "data": {
      "image/png": "[encoded data removed]",
      "text/plain": [
       "<Figure size 320x400 with 1 Axes>"
      ]
     },
     "metadata": {},
     "output_type": "display_data"
    }
   ],
   "source": [
    "plt.figure(figsize=[4,5], dpi=80)\n",
    "plt.boxplot([len(s) for s in tag_encoded_list])"
   ]
  },
  {
   "cell_type": "code",
   "execution_count": 91,
   "metadata": {},
   "outputs": [
    {
     "name": "stdout",
     "output_type": "stream",
     "text": [
      "40.0\n",
      "5\n",
      "581\n"
     ]
    }
   ],
   "source": [
    "print( np.median([len(s) for s in tag_encoded_list]) )\n",
    "print( np.min([len(s) for s in tag_encoded_list]) )\n",
    "print( np.max([len(s) for s in tag_encoded_list]) )"
   ]
  },
  {
   "cell_type": "code",
   "execution_count": 95,
   "metadata": {},
   "outputs": [
    {
     "data": {
      "text/plain": [
       "79.0"
      ]
     },
     "execution_count": 95,
     "metadata": {},
     "output_type": "execute_result"
    }
   ],
   "source": [
    "np.percentile([len(s) for s in tag_encoded_list], 90)"
   ]
  },
  {
   "cell_type": "markdown",
   "metadata": {},
   "source": [
    "## Train Model"
   ]
  },
  {
   "cell_type": "code",
   "execution_count": 27,
   "metadata": {},
   "outputs": [],
   "source": [
    "SEQUENCE_LEN = 80\n",
    "VOCAB_SIZE = 4769\n",
    "EMBED_SIZE = 64\n",
    "N_TAGS = 7"
   ]
  },
  {
   "cell_type": "code",
   "execution_count": 30,
   "metadata": {},
   "outputs": [],
   "source": [
    "X = pad_sequences(encode_sentence(sentence_list), maxlen=SEQUENCE_LEN)\n",
    "y = to_categorical( pad_sequences(encode_tag(sentence_tag_list), maxlen=SEQUENCE_LEN), 7)"
   ]
  },
  {
   "cell_type": "markdown",
   "metadata": {},
   "source": [
    "### Bi-LSTM + CRF"
   ]
  },
  {
   "cell_type": "code",
   "execution_count": 278,
   "metadata": {},
   "outputs": [],
   "source": [
    "from keras.models import Model, Input\n",
    "from keras.layers import LSTM, Embedding, Dense, TimeDistributed, Dropout, Bidirectional\n",
    "from keras_contrib.layers import CRF\n",
    "from keras_contrib.losses import crf_loss\n",
    "from keras_contrib.metrics import crf_accuracy\n",
    "\n",
    "input = Input(shape=(SEQUENCE_LEN,))\n",
    "embedding = Embedding(VOCAB_SIZE, EMBED_SIZE)(input)\n",
    "lstm = Bidirectional(LSTM(units=50, return_sequences=True,\n",
    "                          recurrent_dropout=0.1))(embedding)\n",
    "dense = TimeDistributed(Dense(50, activation=\"relu\"))(lstm)\n",
    "crf = CRF(N_TAGS)\n",
    "out = crf(dense)\n",
    "\n",
    "model = Model(input, out)\n",
    "model.compile(optimizer=\"rmsprop\", loss=crf_loss, metrics=[crf_accuracy])"
   ]
  },
  {
   "cell_type": "code",
   "execution_count": 279,
   "metadata": {},
   "outputs": [
    {
     "name": "stdout",
     "output_type": "stream",
     "text": [
      "_________________________________________________________________\n",
      "Layer (type)                 Output Shape              Param #   \n",
      "=================================================================\n",
      "input_3 (InputLayer)         (None, 80)                0         \n",
      "_________________________________________________________________\n",
      "embedding_3 (Embedding)      (None, 80, 64)            305216    \n",
      "_________________________________________________________________\n",
      "bidirectional_3 (Bidirection (None, 80, 100)           46000     \n",
      "_________________________________________________________________\n",
      "time_distributed_3 (TimeDist (None, 80, 50)            5050      \n",
      "_________________________________________________________________\n",
      "crf_3 (CRF)                  (None, 80, 7)             420       \n",
      "=================================================================\n",
      "Total params: 356,686\n",
      "Trainable params: 356,686\n",
      "Non-trainable params: 0\n",
      "_________________________________________________________________\n"
     ]
    }
   ],
   "source": [
    "model.summary()"
   ]
  },
  {
   "cell_type": "code",
   "execution_count": 281,
   "metadata": {},
   "outputs": [
    {
     "name": "stdout",
     "output_type": "stream",
     "text": [
      "Epoch 1/5\n",
      "46364/46364 [==============================] - 101s 2ms/step - loss: 0.1069 - crf_accuracy: 0.9622\n",
      "Epoch 2/5\n",
      "46364/46364 [==============================] - 101s 2ms/step - loss: 0.0395 - crf_accuracy: 0.9789\n",
      "Epoch 3/5\n",
      "46364/46364 [==============================] - 101s 2ms/step - loss: 0.0193 - crf_accuracy: 0.9831\n",
      "Epoch 4/5\n",
      "46364/46364 [==============================] - 101s 2ms/step - loss: 0.0050 - crf_accuracy: 0.9854\n",
      "Epoch 5/5\n",
      "46364/46364 [==============================] - 101s 2ms/step - loss: -0.0070 - crf_accuracy: 0.9871\n"
     ]
    }
   ],
   "source": [
    "history = model.fit(X, y, batch_size=64, epochs=5)"
   ]
  }
 ],
 "metadata": {
  "kernelspec": {
   "display_name": "Python 3",
   "language": "python",
   "name": "python3"
  },
  "language_info": {
   "codemirror_mode": {
    "name": "ipython",
    "version": 3
   },
   "file_extension": ".py",
   "mimetype": "text/x-python",
   "name": "python",
   "nbconvert_exporter": "python",
   "pygments_lexer": "ipython3",
   "version": "3.6.8"
  },
  "toc": {
   "base_numbering": 1,
   "nav_menu": {},
   "number_sections": true,
   "sideBar": true,
   "skip_h1_title": false,
   "title_cell": "Table of Contents",
   "title_sidebar": "Contents",
   "toc_cell": false,
   "toc_position": {},
   "toc_section_display": true,
   "toc_window_display": false
  }
 },
 "nbformat": 4,
 "nbformat_minor": 2
}
